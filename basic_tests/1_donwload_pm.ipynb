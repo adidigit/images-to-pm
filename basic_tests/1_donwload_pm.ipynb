{
 "cells": [
  {
   "cell_type": "code",
   "execution_count": 23,
   "id": "099e8f4c-27da-4c5f-9f7d-aecc19b8a9f2",
   "metadata": {},
   "outputs": [],
   "source": [
    "import requests\n",
    "import json\n",
    "basic_url = 'https://aqs.epa.gov/data/api/dailyData/byCounty?email=test@aqs.api&key=test&param=88101&bdate={0}0101&edate={0}1231&state=06&county=037'\n",
    "out_file = '/home/adiraz/adiraz/pm_data/daily_data/{0}'\n",
    "years = list(range(2010,2021))\n",
    "for year in years:\n",
    "    url = basic_url.format(year)\n",
    "    out = requests.get(url)\n",
    "    data = json.loads(out.text)\n",
    "    with open(out_file.format(year) +'.json', 'w') as f:\n",
    "        json.dump(data,f)\n"
   ]
  },
  {
   "cell_type": "code",
   "execution_count": 25,
   "id": "0126ad62-6bfd-46a5-bdb4-258aac2eb609",
   "metadata": {},
   "outputs": [],
   "source": [
    "#merge jsons\n",
    "import os\n",
    "pm_files_dir = '/home/adiraz/adiraz/pm_data/daily_data/'\n",
    "final_data = []\n",
    "all_files =os.listdir(pm_files_dir)\n",
    "for file in all_files:\n",
    "    with open(pm_files_dir+file) as f:\n",
    "        rdata = json.load(f)\n",
    "        only_data = rdata['Data']\n",
    "        final_data.extend(only_data)\n",
    "\n",
    "final_dic = {'Header' : [], 'Data' : final_data}\n",
    "\n",
    "with open(pm_files_dir + 'pm_daily_average_2010_2020.json','w') as f:\n",
    "    json.dump(final_dic,f)"
   ]
  },
  {
   "cell_type": "code",
   "execution_count": null,
   "id": "a52d2174-6c23-44ab-9923-1cf9a7177f4d",
   "metadata": {},
   "outputs": [],
   "source": []
  }
 ],
 "metadata": {
  "kernelspec": {
   "display_name": "Python 3",
   "language": "python",
   "name": "python3"
  },
  "language_info": {
   "codemirror_mode": {
    "name": "ipython",
    "version": 3
   },
   "file_extension": ".py",
   "mimetype": "text/x-python",
   "name": "python",
   "nbconvert_exporter": "python",
   "pygments_lexer": "ipython3",
   "version": "3.6.13"
  }
 },
 "nbformat": 4,
 "nbformat_minor": 5
}
