{
 "cells": [
  {
   "cell_type": "code",
   "execution_count": null,
   "id": "c48a4a8e-9e66-42a4-8346-3d101533ff3f",
   "metadata": {},
   "outputs": [],
   "source": [
    "import os\n",
    "import re\n",
    "#import matplotlib as mpl\n",
    "#import matplotlib.pyplot as plt\n",
    "#import mpl_toolkits.basemap.pyproj as pyproj\n",
    "import numpy as np\n",
    "#from mpl_toolkits.basemap import Basemap\n",
    "#from pyhdf.SD import *\n",
    "#import xarray as xr\n",
    "#import rioxarray as rxr\n",
    "#import cv2\n",
    "import pandas\n",
    "import MisrToolkit as mtk\n",
    "class MISR_geo_data:\n",
    "    def __init__(self,file):\n",
    "        self.misr_file = mtk.MtkFile(file)\n",
    "    \n",
    "    def get_date(self):\n",
    "        m =  self.misr_file # ,mask_and_scale=True)\n",
    "        times = m.block_metadata_field_read('PerBlockMetadataTime','BlockCenterTime')\n",
    "        a = [ t for t in times if t is not '' ]\n",
    "        date = a[1]\n",
    "        date = pandas.to_datetime(date).date()\n",
    "        self.date = str(date)\n",
    "        #m.core_metadata_get (EQUATORCROSSINGTIME)\n",
    "        return str(date)\n",
    "    def get_path(self):\n",
    "        m =  self.misr_file \n",
    "        path = m.attr_get('Path_number')\n",
    "        return path\n",
    "    \n",
    "    def get_orbit(self):\n",
    "        m =  self.misr_file \n",
    "        orbit = m.core_metadata_get('ORBITNUMBER')\n",
    "        return orbit\n",
    "\n",
    "    def check_if_pm_station_is_in_misr_image(self,pm_lat,pm_lon):\n",
    "        m = self.misr_file\n",
    "        path = m.attr_get('Path_number')\n",
    "        start_block = int(m.attr_get('Start_block'))\n",
    "        end_block = int(m.attr_get('End block'))\n",
    "        blocks = np.arange(start_block,end_block,dtype='int')\n",
    "        #r = mtk.MtkRegion(path,start_block,end_block)\n",
    "        mgrid =  m.grid('BlueBand')\n",
    "        res = mgrid.attr_get('Block_size.resolution_x')\n",
    "        #map_info = r.snap_to_grid(path, res)\n",
    "        #lat,lon = map_info.create_latlon()\n",
    "        try:\n",
    "            mtk.latlon_to_bls(path,res,pm_lat, pm_lon)\n",
    "        except:\n",
    "            return False\n",
    "        \n",
    "        return True"
   ]
  },
  {
   "cell_type": "code",
   "execution_count": null,
   "id": "69cd1b56-d8b0-42b2-8726-0e10120d71b2",
   "metadata": {},
   "outputs": [],
   "source": [
    "misr_file = '/home/adiraz/adiraz/misr_data/MISR_AM1_GRP_TERRAIN_GM_P042_O116011_DA_F03_0024.hdf'\n",
    "m = mtk.MtkFile(misr_file)\n",
    "# path = m.attr_get('Path_number')\n",
    "# start_block = int(m.attr_get('Start_block'))\n",
    "# end_block = int(m.attr_get('End block'))\n",
    "# blocks = np.arange(start_block,end_block,dtype='int')z\n",
    "# r = mtk.MtkRegion(path,start_block,end_block)\n",
    "# mgrid =  m.grid('BlueBand')\n",
    "# res = mgrid.attr_get('Block_size.resolution_x')\n",
    "# map_info = r.snap_to_grid(path, res)\n",
    "\n",
    "# somx,somy =mtk.latlon_to_somxy(path, -200.0,-200.0)\n",
    "# mtk.somxy_to_bls(path,res,somx,somy)\n",
    "# #map_info.latlon_to_ls(-200.0,-200.0)\n",
    "\n",
    "# # m = MISR_geo_data(misr_file)\n",
    "# # m.check_if_station_is_in_image(10,10)"
   ]
  },
  {
   "cell_type": "code",
   "execution_count": null,
   "id": "47977468-0f17-43de-91d2-dba87b37d229",
   "metadata": {},
   "outputs": [],
   "source": [
    "m.block_metadata_list\n",
    "m.block_metadata_field_list('PerBlockMetadataTime')\n",
    "m.block_metadata_field_read('PerBlockMetadataTime', 'BlockCenterTime')[63]"
   ]
  },
  {
   "cell_type": "code",
   "execution_count": null,
   "id": "fcf11239-8dd1-48c0-8e00-b8bf48c35522",
   "metadata": {},
   "outputs": [],
   "source": [
    "# mtk.bls_to_latlon(path,res,63,200,200)\n",
    "# # mtk.latlon_to_bls(path,res,36.448, -117.643)"
   ]
  },
  {
   "cell_type": "code",
   "execution_count": null,
   "id": "3975d462-2e39-4f42-a6e8-d7e6d3e052ad",
   "metadata": {
    "scrolled": true,
    "tags": []
   },
   "outputs": [],
   "source": [
    "import json\n",
    "import numpy as np\n",
    "#import xarray as xr\n",
    "#import rioxarray as rxr\n",
    "#import MISR_geo_data\n",
    "import os\n",
    "import pandas\n",
    "\n",
    "\n",
    "def find_matches_between_pm_to_misr_data(pm_data_file,misr_dir):\n",
    "    matches_misr_pm_data = []\n",
    "\n",
    "    pd = PM_Data(pm_data_file)\n",
    "    pm_data = pd.load()\n",
    "    misr_subset_dir = misr_dir\n",
    "    misr_files = [os.path.join(misr_subset_dir,f) for f in os.listdir(misr_subset_dir) if f.endswith('hdf')]\n",
    "    misr_files_per_date = {}\n",
    "    for file in misr_files:\n",
    "        #print('reading file ', file)\n",
    "        misr = MISR_geo_data(file)\n",
    "        misr_date = misr.get_date()\n",
    "        if misr_date not in misr_files_per_date.keys():\n",
    "            misr_files_per_date[misr_date]  = []\n",
    "        misr_files_per_date[misr_date].append({'file_name':  file ,\n",
    "                                               #'blocks_geo_locations' : misr.get_max_min_lon_lat_per_block(),\n",
    "                                               'orbit': misr.get_orbit()})\n",
    "\n",
    "    pm_data_per_date = {}\n",
    "    for pm_measure in pm_data:\n",
    "        pm_date = pm_measure['date_local']\n",
    "        if pm_date not in pm_data_per_date:\n",
    "            pm_data_per_date[pm_date] =[]\n",
    "        pm_data_per_date[pm_date].append(pm_measure)\n",
    "    print(\"completed dates matching\")\n",
    "    #check date convention\n",
    "    for date in pm_data_per_date.keys():\n",
    "        for pm_station_data in pm_data_per_date[date]:\n",
    "            pm_geo_location_lat = pm_station_data['latitude']\n",
    "            pm_geo_location_lon = pm_station_data['longitude']\n",
    "            if date in misr_files_per_date.keys():\n",
    "                misr_data_from_this_date = misr_files_per_date[date]\n",
    "                for misr_file in misr_data_from_this_date:\n",
    "                    misr = MISR_geo_data(misr_file['file_name'])\n",
    "                    #misr_blocks_geo_location = misr_file['blocks_geo_locations']\n",
    "                    #for bidx, misr_geo_location in enumerate(misr_blocks_geo_location):\n",
    "                    if misr.check_if_pm_station_is_in_misr_image(pm_geo_location_lat,pm_geo_location_lon):\n",
    "                        matches_misr_pm_data.append({'pm_data': pm_station_data, 'image_data' : {'file' : misr_file}})\n",
    "                        print('Found match!')\n",
    "\n",
    "    return matches_misr_pm_data\n",
    "\n"
   ]
  },
  {
   "cell_type": "code",
   "execution_count": null,
   "id": "64e64130-c204-47d8-8ce4-62ebf91ec852",
   "metadata": {},
   "outputs": [],
   "source": [
    "# pm_data_file = '/home/adiraz/adiraz/misr_data/la_pm_2021_all.json'\n",
    "# misr_dir = '/home/adiraz/adiraz/misr_data'\n",
    "# matches_misr_pm_data = find_matches_between_pm_to_misr_data(pm_data_file,misr_dir)\n",
    "# matches_file = '/home/adiraz/adiraz/matches_pm_misr.json'\n",
    "# with open(matches_file,'w') as f:\n",
    "#     json.dump(matches_misr_pm_data,f)"
   ]
  },
  {
   "cell_type": "code",
   "execution_count": null,
   "id": "6f3f7b84-4698-45a9-9b57-89bd96197ca4",
   "metadata": {},
   "outputs": [],
   "source": [
    "# matches_misr_pm_data"
   ]
  },
  {
   "cell_type": "code",
   "execution_count": null,
   "id": "6d5cfb6e-95da-4367-bf00-9bd500ebd981",
   "metadata": {},
   "outputs": [],
   "source": [
    "# matches_misr_pm_data = []\n",
    "\n",
    "# pd = PM_Data(pm_data_file)\n",
    "# pm_data = pd.load()\n",
    "# misr_subset_dir = misr_dir\n",
    "# misr_files = [os.path.join(misr_subset_dir,f) for f in os.listdir(misr_subset_dir) if f.endswith('hdf')]\n",
    "# misr_files_per_date = {}\n",
    "# for file in misr_files:\n",
    "#     #print('reading file ', file)\n",
    "#     misr = MISR_geo_data(file)\n",
    "#     misr_date = misr.get_date()\n",
    "#     if misr_date not in misr_files_per_date.keys():\n",
    "#         misr_files_per_date[misr_date]  = []\n",
    "#     misr_files_per_date[misr_date].append({'file_name':  file ,\n",
    "#                                            #'blocks_geo_locations' : misr.get_max_min_lon_lat_per_block(),\n",
    "#                                            'orbit': misr.get_orbit()})\n",
    "\n",
    "# pm_data_per_date = {}\n",
    "# for pm_measure in pm_data:\n",
    "#     pm_date = pm_measure['date_gmt']\n",
    "#     if pm_date not in pm_data_per_date:\n",
    "#         pm_data_per_date[pm_date] =[]\n",
    "#     pm_data_per_date[pm_date].append(pm_measure)\n",
    "# print(\"completed dates matching\")\n",
    "# #check date convention\n",
    "# for date in pm_data_per_date.keys():\n",
    "#     for pm_station_data in pm_data_per_date[date]:\n",
    "#         pm_geo_location_lat = pm_station_data['latitude']\n",
    "#         pm_geo_location_lon = pm_station_data['longitude']\n",
    "#         if date in misr_files_per_date.keys():\n",
    "#             misr_data_from_this_date = misr_files_per_date[date]\n",
    "#             for misr_file in misr_data_from_this_date:\n",
    "#                 misr = MISR_geo_data(misr_file['file_name'])\n",
    "#                 #misr_blocks_geo_location = misr_file['blocks_geo_locations']\n",
    "#                 #for bidx, misr_geo_location in enumerate(misr_blocks_geo_location):\n",
    "#                 if misr.check_if_pm_station_is_in_misr_image(pm_geo_location_lat,pm_geo_location_lon):\n",
    "#                     matches_misr_pm_data.append({'pm_data': pm_station_data, 'image_data' : {'file' : misr_file}})\n",
    "#                     print('Found match!')\n"
   ]
  },
  {
   "cell_type": "code",
   "execution_count": null,
   "id": "b20ac33f-1324-4a56-b4b2-fee2be31bced",
   "metadata": {},
   "outputs": [],
   "source": [
    "# date= '2021-10-09'\n",
    "# pm_data_this_date = pm_data_per_date[date]\n",
    "# misr_files_per_date[date]"
   ]
  },
  {
   "cell_type": "code",
   "execution_count": null,
   "id": "f9354127-8d16-4f77-a7bf-c26fddfe076d",
   "metadata": {},
   "outputs": [],
   "source": [
    "# data = [ (pm_data['latitude'],pm_data['longitude']) for pm_data in pm_data_per_date[date]]"
   ]
  },
  {
   "cell_type": "code",
   "execution_count": null,
   "id": "1b37c2ad-b3ae-420b-8f62-4f2afee33a87",
   "metadata": {},
   "outputs": [],
   "source": [
    "# data"
   ]
  },
  {
   "cell_type": "code",
   "execution_count": null,
   "id": "a81eac49-09d0-4273-88d1-4529e6349619",
   "metadata": {},
   "outputs": [],
   "source": [
    "# mtk.latlon_to_bls(42,res,34.669739, -118.130511)"
   ]
  },
  {
   "cell_type": "code",
   "execution_count": null,
   "id": "e4075788-dfb2-48c7-b35a-35fa60a00748",
   "metadata": {},
   "outputs": [],
   "source": [
    "# for misr_file in misr_data_from_this_date:\n",
    "#     misr = MISR_geo_data(misr_file['file_name'])\n",
    "#     #misr_blocks_geo_location = misr_file['blocks_geo_locations']\n",
    "#     #for bidx, misr_geo_location in enumerate(misr_blocks_geo_location):\n",
    "#     if misr.check_if_pm_station_is_in_misr_image(pm_geo_location_lat,pm_geo_location_lon):\n",
    "#         matches_misr_pm_data.append({'pm_data': pm_station_data, 'image_data' : {'file' : misr_file , 'block' : bidx}})\n",
    "#         print('Found match!')\n"
   ]
  },
  {
   "cell_type": "code",
   "execution_count": null,
   "id": "6fb65469-f6fa-4a7b-96bf-25715bc93f0b",
   "metadata": {},
   "outputs": [],
   "source": [
    "pm_geo_location_lat"
   ]
  },
  {
   "cell_type": "code",
   "execution_count": null,
   "id": "6f5f2b3e-df9e-4d23-9b17-e5cd60480f2c",
   "metadata": {},
   "outputs": [],
   "source": [
    "pm_geo_location_lon"
   ]
  },
  {
   "cell_type": "code",
   "execution_count": null,
   "id": "f7d61fc9-b5f4-483e-8588-7d5900aa1579",
   "metadata": {},
   "outputs": [],
   "source": [
    "ret = misr.check_if_pm_station_is_in_misr_image(pm_geo_location_lat,pm_geo_location_lon)"
   ]
  },
  {
   "cell_type": "code",
   "execution_count": null,
   "id": "ad7e26cc-ddfb-4412-a191-484fd5a441b4",
   "metadata": {},
   "outputs": [],
   "source": [
    "pm_geo_location_lat,pm_geo_location_lon"
   ]
  },
  {
   "cell_type": "code",
   "execution_count": null,
   "id": "699bf17b-4e14-4f5c-ad6b-0748f2cd1c77",
   "metadata": {},
   "outputs": [],
   "source": []
  },
  {
   "cell_type": "code",
   "execution_count": null,
   "id": "43af5585-8cf2-4ad8-aadd-14936606d39c",
   "metadata": {},
   "outputs": [],
   "source": []
  },
  {
   "cell_type": "code",
   "execution_count": null,
   "id": "b948ea01-f937-45cf-91cb-beff97dcde85",
   "metadata": {},
   "outputs": [],
   "source": []
  },
  {
   "cell_type": "code",
   "execution_count": null,
   "id": "5852a7e3-52b5-45d5-9e75-0c5ad7e2f319",
   "metadata": {},
   "outputs": [],
   "source": []
  },
  {
   "cell_type": "code",
   "execution_count": null,
   "id": "4bbb4a99-5267-4f5d-8352-5894c23b6699",
   "metadata": {},
   "outputs": [],
   "source": []
  }
 ],
 "metadata": {
  "kernelspec": {
   "display_name": "Python 3",
   "language": "python",
   "name": "python3"
  },
  "language_info": {
   "codemirror_mode": {
    "name": "ipython",
    "version": 3
   },
   "file_extension": ".py",
   "mimetype": "text/x-python",
   "name": "python",
   "nbconvert_exporter": "python",
   "pygments_lexer": "ipython3",
   "version": "3.6.13"
  }
 },
 "nbformat": 4,
 "nbformat_minor": 5
}