{
 "cells": [
  {
   "cell_type": "code",
   "execution_count": 3,
   "id": "b55fa016-ff16-4412-b9f4-b444b6180d2a",
   "metadata": {},
   "outputs": [],
   "source": [
    "import MisrToolkit as mtk"
   ]
  },
  {
   "cell_type": "code",
   "execution_count": 4,
   "id": "c334a757-57d0-484c-9053-cd3c2169667d",
   "metadata": {},
   "outputs": [],
   "source": [
    "misr_file = '/home/adiraz/adiraz/misr_data/MISR_AM1_GRP_TERRAIN_GM_P043_O117045_DF_F03_0024.hdf'"
   ]
  },
  {
   "cell_type": "code",
   "execution_count": 5,
   "id": "7bc19b33-36de-4922-b432-606d94dee245",
   "metadata": {},
   "outputs": [],
   "source": [
    "m = mtk.MtkFile(misr_file)\n"
   ]
  },
  {
   "cell_type": "code",
   "execution_count": null,
   "id": "ad1ad0ce-4268-43d0-a5b4-9de0388c2295",
   "metadata": {},
   "outputs": [],
   "source": []
  },
  {
   "cell_type": "code",
   "execution_count": 27,
   "id": "851a36b5-ca0a-4a9c-b392-d06f90096f81",
   "metadata": {},
   "outputs": [],
   "source": [
    "m.attr_get('Path_number')\n",
    "r = mtk.MtkRegion(43,62,63)"
   ]
  },
  {
   "cell_type": "raw",
   "id": "8282dbd5-1a50-4bff-9073-dcf7d7e92dfa",
   "metadata": {},
   "source": [
    "r"
   ]
  },
  {
   "cell_type": "code",
   "execution_count": null,
   "id": "5a9546c7-32e1-4fec-a636-090dbe48bbfa",
   "metadata": {},
   "outputs": [],
   "source": [
    "r.center\n",
    "map_info = r.snap_to_grid(43, 1100)"
   ]
  },
  {
   "cell_type": "code",
   "execution_count": null,
   "id": "2893f53b-abf9-427b-bd05-81a0ac22e578",
   "metadata": {},
   "outputs": [],
   "source": [
    "lat,lon = map_info.create_latlon()"
   ]
  },
  {
   "cell_type": "code",
   "execution_count": null,
   "id": "844104bb-f612-485f-b7fc-144342b880cd",
   "metadata": {},
   "outputs": [],
   "source": [
    "d.mapinfo()"
   ]
  },
  {
   "cell_type": "code",
   "execution_count": 7,
   "id": "76211d4f-811b-451f-8ed4-ef2b246a5f77",
   "metadata": {},
   "outputs": [
    {
     "data": {
      "text/plain": [
       "['HDFEOSVersion',\n",
       " 'StructMetadata.0',\n",
       " 'Path_number',\n",
       " 'AGP_version_id',\n",
       " 'DID_version_id',\n",
       " 'Number_blocks',\n",
       " 'Ocean_blocks_size',\n",
       " 'Ocean_blocks.count',\n",
       " 'Ocean_blocks.numbers',\n",
       " 'SOM_parameters.som_ellipsoid.a',\n",
       " 'SOM_parameters.som_ellipsoid.e2',\n",
       " 'SOM_parameters.som_orbit.aprime',\n",
       " 'SOM_parameters.som_orbit.eprime',\n",
       " 'SOM_parameters.som_orbit.gama',\n",
       " 'SOM_parameters.som_orbit.nrev',\n",
       " 'SOM_parameters.som_orbit.ro',\n",
       " 'SOM_parameters.som_orbit.i',\n",
       " 'SOM_parameters.som_orbit.P2P1',\n",
       " 'SOM_parameters.som_orbit.lambda0',\n",
       " 'Origin_block.ulc.x',\n",
       " 'Origin_block.ulc.y',\n",
       " 'Origin_block.lrc.x',\n",
       " 'Origin_block.lrc.y',\n",
       " 'Start_block',\n",
       " 'End block',\n",
       " 'Cam_mode',\n",
       " 'Num_local_modes',\n",
       " 'Local_mode_site_name',\n",
       " 'Orbit_QA',\n",
       " 'Camera',\n",
       " 'coremetadata']"
      ]
     },
     "execution_count": 7,
     "metadata": {},
     "output_type": "execute_result"
    }
   ],
   "source": [
    "m.attr_list"
   ]
  },
  {
   "cell_type": "code",
   "execution_count": 8,
   "id": "3c78f11e-a0f4-42dc-a058-7c8830bb7772",
   "metadata": {},
   "outputs": [
    {
     "data": {
      "text/plain": [
       "['PerBlockMetadataCommon', 'PerBlockMetadataRad', 'PerBlockMetadataTime']"
      ]
     },
     "execution_count": 8,
     "metadata": {},
     "output_type": "execute_result"
    }
   ],
   "source": [
    "m.block_metadata_list"
   ]
  },
  {
   "cell_type": "code",
   "execution_count": 10,
   "id": "4a009200-aedb-410b-9fd8-2036e4451460",
   "metadata": {},
   "outputs": [
    {
     "data": {
      "text/plain": [
       "['BlockCenterTime']"
      ]
     },
     "execution_count": 10,
     "metadata": {},
     "output_type": "execute_result"
    }
   ],
   "source": [
    "m.block_metadata_field_list('PerBlockMetadataTime')"
   ]
  },
  {
   "cell_type": "code",
   "execution_count": 26,
   "id": "e99dc824-9a0a-4407-bf32-d4233bf0fced",
   "metadata": {},
   "outputs": [
    {
     "data": {
      "text/plain": [
       "datetime.date(2021, 12, 19)"
      ]
     },
     "execution_count": 26,
     "metadata": {},
     "output_type": "execute_result"
    }
   ],
   "source": [
    "times = m.block_metadata_field_read('PerBlockMetadataTime','BlockCenterTime')\n",
    "a = [ t for t in times if t is not '' ]\n",
    "date = a[1]\n",
    "date= pd.to_datetime(date).date()\n"
   ]
  },
  {
   "cell_type": "code",
   "execution_count": 16,
   "id": "a062b6aa-4a01-47f9-a9a8-4f059902638a",
   "metadata": {},
   "outputs": [
    {
     "data": {
      "text/plain": [
       "['BlueBand',\n",
       " 'GreenBand',\n",
       " 'RedBand',\n",
       " 'NIRBand',\n",
       " 'BRF Conversion Factors',\n",
       " 'GeometricParameters']"
      ]
     },
     "execution_count": 16,
     "metadata": {},
     "output_type": "execute_result"
    }
   ],
   "source": [
    "m.grid_list"
   ]
  },
  {
   "cell_type": "code",
   "execution_count": 28,
   "id": "7bf8ed39-bb26-405b-965c-a4e9d6d6e0be",
   "metadata": {},
   "outputs": [],
   "source": [
    "mgrid =  m.grid('BlueBand')"
   ]
  },
  {
   "cell_type": "code",
   "execution_count": 29,
   "id": "5b18929b-7e08-4563-bb31-b909f54267aa",
   "metadata": {},
   "outputs": [
    {
     "data": {
      "text/plain": [
       "['Block_size.resolution_x',\n",
       " 'Block_size.resolution_y',\n",
       " 'Block_size.size_x',\n",
       " 'Block_size.size_y',\n",
       " 'Scale factor',\n",
       " 'std_solar_wgted_height',\n",
       " 'SunDistanceAU']"
      ]
     },
     "execution_count": 29,
     "metadata": {},
     "output_type": "execute_result"
    }
   ],
   "source": [
    "mgrid.attr_list"
   ]
  },
  {
   "cell_type": "code",
   "execution_count": 30,
   "id": "309af3e0-2cf8-4d05-ac5a-6bd7789b3e9b",
   "metadata": {},
   "outputs": [],
   "source": [
    "res = mgrid.attr_get('Block_size.resolution_x')"
   ]
  },
  {
   "cell_type": "code",
   "execution_count": 31,
   "id": "3a386ef2-e60e-4b84-8dd3-66f8fa45795b",
   "metadata": {},
   "outputs": [
    {
     "data": {
      "text/plain": [
       "1100"
      ]
     },
     "execution_count": 31,
     "metadata": {},
     "output_type": "execute_result"
    }
   ],
   "source": [
    "res"
   ]
  },
  {
   "cell_type": "code",
   "execution_count": null,
   "id": "8651c754-ec34-44b1-98b7-5f51c35b02bb",
   "metadata": {},
   "outputs": [],
   "source": [
    "#latlon_to_bls(path, resolution meters, lat, lon)\n",
    "#Convert decimal degrees latitude and longitude to block, line, sample.\n",
    "\n",
    "mtk.latlon_to_bls(path, res, 35.03588330130763, -121.10547839606753)"
   ]
  },
  {
   "cell_type": "code",
   "execution_count": null,
   "id": "c9aaa038-ecd3-4316-afc7-fb598c60800b",
   "metadata": {},
   "outputs": [],
   "source": [
    "import os\n",
    "import re\n",
    "import matplotlib as mpl\n",
    "import matplotlib.pyplot as plt\n",
    "#import mpl_toolkits.basemap.pyproj as pyproj\n",
    "import numpy as np\n",
    "#from mpl_toolkits.basemap import Basemap\n",
    "from pyhdf.SD import *\n",
    "import MisrToolkit as mtk\n",
    "import cv2\n",
    "class MISR_Data:\n",
    "    def __init__(self,misr_file,prefix = 'MISR_AM1_GRP_TERRAIN_GM_'):\n",
    "        self.misr_file = mtk.MtkFile(misr_file) \n",
    "        self.prefix = prefix\n",
    "        self.resolution = [128,512]\n",
    "        self.date = self.get_date()\n",
    "        self.start_block = int(misr.attr_get('Start_block'))\n",
    "        self.end_block = int(misr.attr_get('End block'))\n",
    "        self.blocks = np.arange(self.start_block,self.end_block,dtype='int')\n",
    "        self.scale_factor = 1\n",
    "\n",
    "\n",
    "    def get_date(self):\n",
    "        m =  self.misr_file # ,mask_and_scale=True)\n",
    "        times = m.block_metadata_field_read('PerBlockMetadataTime','BlockCenterTime')\n",
    "        a = [ t for t in times if t is not '' ]\n",
    "        date = a[1]\n",
    "        date = pd.to_datetime(date).date()\n",
    "        self.date = date\n",
    "        return date\n",
    "\n",
    "\n",
    "    def load(self):\n",
    "        misr = self.misr_file # ,mask_and_scale=True)\n",
    "        #self.hdf = SD(self.misr_file, SDC.READ)\n",
    "        images = self.get_blocks_images()\n",
    "        latitude, longitude = self.get_latitude_longitude()\n",
    "        return images, latitude, longitude\n",
    "    #(\"BlueBand|Blue Radiance/RDQI\", \"GreenBand|Green Radiance/RDQI\",\n",
    "    # \"NIRBand|NIR Radiance/RDQI\", \"RedBand|Latitude\", \"RedBand|Longitude\", \"RedBand|Red Radiance/RDQI\")\n",
    "\n",
    "    def load_block(self,block_id):\n",
    "        blocks_images_list, latitude, longitude = self.load()\n",
    "        return blocks_images_list[block_id], latitude[block_id],longitude[block_id]\n",
    "\n",
    "    def get_channel(self,channel_name,block_num,image_scale=1.):\n",
    "        misr = self.misr_file\n",
    "        #print('Reading channel ', channel_name)\n",
    "        mgrid = misr.grid('BlueBand')\n",
    "        path = misr.attr_get('Path_number')\n",
    "        block_num = int(block_num)\n",
    "        r = mtk.MtkRegion(path,block_num,block_num)\n",
    "        \n",
    "        data = data3D[block_num, :, :]\n",
    "        attrs = data3D.attributes(full=1)\n",
    "        fva = attrs[\"_FillValue\"]\n",
    "        _FillValue = fva[0]\n",
    "        datas = np.right_shift(data, 2);\n",
    "        dataf = datas.astype(np.double)\n",
    "        dataf[data == _FillValue] = np.nan\n",
    "        dataf[datas > 16376] = np.nan\n",
    "        if dataf.shape[0] > self.resolution[0] :\n",
    "            image_scale = 0.25\n",
    "            dataf = cv2.resize(dataf,(0,0),fx = image_scale,fy= image_scale, interpolation=cv2.INTER_CUBIC)\n",
    "        datam = np.ma.masked_array(dataf, mask=np.isnan(dataf))\n",
    "        datam = self.scale_factor * datam;\n",
    "        return datam\n",
    "\n",
    "    def get_4d_image(self, block_num):\n",
    "        channels = [ 'Red Radiance/RDQI', 'Green Radiance/RDQI','Blue Radiance/RDQI', 'NIR Radiance/RDQI']\n",
    "        scale_factor = 1\n",
    "        channels_list = []\n",
    "        for channel_name in channels:\n",
    "            ch = self.get_channel(channel_name,block_num)\n",
    "            channels_list.append(ch)\n",
    "        channels_im = np.ma.stack(channels_list,axis=0)\n",
    "        return channels_im\n",
    "\n",
    "    def get_blocks_images(self):\n",
    "        blocks_images = []\n",
    "        for block_num in self.blocks:\n",
    "            block_im = self.get_4d_image(block_num)\n",
    "            blocks_images.append(block_im)\n",
    "        return blocks_images\n",
    "\n",
    "    def parse_file_name(self):\n",
    "        file_name_start = self.misr_file.find(self.prefix)\n",
    "        data_to_parse = self.misr_file[file_name_start:]\n",
    "        path_number = data_to_parse[1:4]\n",
    "        orbit_number = data_to_parse[6:12]\n",
    "        camera = data_to_parse[13:15]\n",
    "        start_block_data = data_to_parse.find('.')\n",
    "        block_data_to_parse = data_to_parse[start_block_data:]\n",
    "        self.start_block = block_data_to_parse[1:4]\n",
    "        self.end_block = block_data_to_parse[5:8]\n",
    "\n",
    "    def get_latitude_longitude(self):\n",
    "        blocks_latitude = []\n",
    "        blocks_longitude = []\n",
    "        lat = self.hdf.select('Latitude')\n",
    "        lon = self.hdf.select('Longitude')\n",
    "        for block_num in self.blocks:\n",
    "            block_num = int(block_num)\n",
    "            block_lat = lat[block_num,:,:]\n",
    "            block_lon = lon[block_num,:,:]\n",
    "            blocks_latitude.append(block_lat)\n",
    "            blocks_longitude.append(block_lon)\n",
    "        return blocks_latitude,blocks_longitude\n",
    "\n",
    "    def get_max_min_lon_lat_per_block(self):\n",
    "        #change this after understaning how to read it crrectly\n",
    "        #misr = rxr.open_rasterio(self.misr_file)  # ,mask_and_scale=True)\n",
    "\n",
    "        images , latitude, longitude = self.load()\n",
    "        lat_lon_ranges_all_blocks = []\n",
    "        for block_lat,block_lon in zip(latitude,longitude):\n",
    "            lat_lon_ranges = {}\n",
    "            lat_lon_ranges['min_lat'] = float(np.min(block_lat))\n",
    "            lat_lon_ranges['max_lat'] = float(np.max(block_lat))\n",
    "            lat_lon_ranges['min_lon'] = float(np.min(block_lon))\n",
    "            lat_lon_ranges['max_lon'] = float(np.max(block_lon))\n",
    "            lat_lon_ranges_all_blocks.append(lat_lon_ranges)\n",
    "        return lat_lon_ranges_all_blocks\n",
    "\n",
    "    def get_orbit(self):\n",
    "        misr = rxr.open_rasterio(self.misr_file)  # ,mask_and_scale=True)\n",
    "        try:\n",
    "            attrs = misr[0].attrs\n",
    "            orbit = attrs['ORBITNUMBER.1']\n",
    "\n",
    "        except:\n",
    "            attrs = misr.attrs\n",
    "            orbit = attrs['ORBITNUMBER.1']\n",
    "\n",
    "        return orbit\n"
   ]
  },
  {
   "cell_type": "code",
   "execution_count": 20,
   "id": "0a1ef1d0-fd6c-4092-bc19-cdc72b2eff16",
   "metadata": {},
   "outputs": [
    {
     "name": "stdout",
     "output_type": "stream",
     "text": [
      "Collecting pandas\n",
      "  Downloading pandas-1.1.5-cp36-cp36m-manylinux1_x86_64.whl (9.5 MB)\n",
      "     |████████████████████████████████| 9.5 MB 899 kB/s            \n",
      "\u001b[?25hRequirement already satisfied: python-dateutil>=2.7.3 in ./miniconda3/envs/pm36/lib/python3.6/site-packages (from pandas) (2.8.2)\n",
      "Requirement already satisfied: numpy>=1.15.4 in ./miniconda3/envs/pm36/lib/python3.6/site-packages (from pandas) (1.19.5)\n",
      "Requirement already satisfied: pytz>=2017.2 in ./miniconda3/envs/pm36/lib/python3.6/site-packages (from pandas) (2022.5)\n",
      "Requirement already satisfied: six>=1.5 in ./miniconda3/envs/pm36/lib/python3.6/site-packages (from python-dateutil>=2.7.3->pandas) (1.16.0)\n",
      "Installing collected packages: pandas\n",
      "Successfully installed pandas-1.1.5\n"
     ]
    }
   ],
   "source": [
    "!pip install pandas"
   ]
  },
  {
   "cell_type": "code",
   "execution_count": 35,
   "id": "9d908781-475b-40f3-9c34-2a421b5038e3",
   "metadata": {},
   "outputs": [
    {
     "name": "stdout",
     "output_type": "stream",
     "text": [
      "2021-12-19\n"
     ]
    }
   ],
   "source": [
    "import pandas as pd\n",
    "a = \"2021-12-19T19:24:52.195362Z\"\n",
    "print(pd.to_datetime(a).date())"
   ]
  },
  {
   "cell_type": "code",
   "execution_count": 39,
   "id": "32295c0f-4db8-461a-bfbd-ac562e104ce9",
   "metadata": {},
   "outputs": [
    {
     "data": {
      "text/plain": [
       "'2021-12-19'"
      ]
     },
     "execution_count": 39,
     "metadata": {},
     "output_type": "execute_result"
    }
   ],
   "source": [
    "str(pd.to_datetime(a).date())"
   ]
  },
  {
   "cell_type": "markdown",
   "id": "ab4eca89-1669-4ac3-ba04-655c4419e284",
   "metadata": {},
   "source": [
    "# Create Pandas array from misr data\n",
    "\n"
   ]
  },
  {
   "cell_type": "code",
   "execution_count": 61,
   "id": "2bcf5cf9-4dbf-46ab-8312-6c206684b9d5",
   "metadata": {},
   "outputs": [],
   "source": [
    "import os\n",
    "import re\n",
    "#import matplotlib as mpl\n",
    "#import matplotlib.pyplot as plt\n",
    "#import mpl_toolkits.basemap.pyproj as pyproj\n",
    "import numpy as np\n",
    "#from mpl_toolkits.basemap import Basemap\n",
    "#from pyhdf.SD import *\n",
    "#import xarray as xr\n",
    "#import rioxarray as rxr\n",
    "#import cv2\n",
    "import pandas\n",
    "import MisrToolkit as mtk\n",
    "class MISR_tabular_data:\n",
    "    def __init__(self,file):\n",
    "        self.misr_file = mtk.MtkFile(file)\n",
    "    \n",
    "    def get_date(self):\n",
    "        m =  self.misr_file # ,mask_and_scale=True)\n",
    "        times = m.block_metadata_field_read('PerBlockMetadataTime','BlockCenterTime')\n",
    "        a = [ t for t in times if t is not '' ]\n",
    "        date = a[1]\n",
    "        date = pandas.to_datetime(date).date()\n",
    "        self.date = str(date)\n",
    "        #m.core_metadata_get (EQUATORCROSSINGTIME)\n",
    "        return str(date)\n",
    "    \n",
    "    def get_path(self):\n",
    "        m =  self.misr_file \n",
    "        path = m.attr_get('Path_number')\n",
    "        return path\n",
    "    \n",
    "    def get_orbit(self):\n",
    "        m =  self.misr_file \n",
    "        orbit = m.core_metadata_get('ORBITNUMBER')\n",
    "        return orbit\n",
    "    \n",
    "    def get_camera(self):\n",
    "        m =  self.misr_file\n",
    "        cam = m.attr_get('Camera')\n",
    "        return cam\n",
    "\n",
    "    def check_if_pm_station_is_in_misr_image(self,pm_lat,pm_lon):\n",
    "        m = self.misr_file\n",
    "        path = m.attr_get('Path_number')\n",
    "        start_block = int(m.attr_get('Start_block'))\n",
    "        end_block = int(m.attr_get('End block'))\n",
    "        blocks = np.arange(start_block,end_block,dtype='int')\n",
    "        #r = mtk.MtkRegion(path,start_block,end_block)\n",
    "        mgrid =  m.grid('BlueBand')\n",
    "        res = mgrid.attr_get('Block_size.resolution_x')\n",
    "        #map_info = r.snap_to_grid(path, res)\n",
    "        #lat,lon = map_info.create_latlon()\n",
    "        try:\n",
    "            mtk.latlon_to_bls(path,res,pm_lat, pm_lon)\n",
    "        except:\n",
    "            return False\n",
    "        \n",
    "        return True"
   ]
  },
  {
   "cell_type": "code",
   "execution_count": 67,
   "id": "1d73e4d3-6bd1-48e3-b377-6722e2c27235",
   "metadata": {},
   "outputs": [],
   "source": [
    "def get_misr_data_df(misr_dir):\n",
    "    misr_files = [os.path.join(misr_subset_dir,f) for f in os.listdir(misr_subset_dir) if f.endswith('hdf')]\n",
    "    all_data = []\n",
    "    for i, file in enumerate(misr_files):\n",
    "        misr = MISR_tabular_data(file)\n",
    "        d = {'file_name': file ,'date' : misr.get_date() , 'orbit': misr.get_orbit(), 'path' : misr.get_path(), 'camera' : misr.get_camera() }\n",
    "        all_data.append(d)\n",
    "\n",
    "    df = pandas.DataFrame(all_data)\n",
    "    return df"
   ]
  },
  {
   "cell_type": "code",
   "execution_count": 68,
   "id": "6ab4708b-c7a2-4f7a-805f-4c0360e48376",
   "metadata": {},
   "outputs": [
    {
     "data": {
      "text/html": [
       "<div>\n",
       "<style scoped>\n",
       "    .dataframe tbody tr th:only-of-type {\n",
       "        vertical-align: middle;\n",
       "    }\n",
       "\n",
       "    .dataframe tbody tr th {\n",
       "        vertical-align: top;\n",
       "    }\n",
       "\n",
       "    .dataframe thead th {\n",
       "        text-align: right;\n",
       "    }\n",
       "</style>\n",
       "<table border=\"1\" class=\"dataframe\">\n",
       "  <thead>\n",
       "    <tr style=\"text-align: right;\">\n",
       "      <th></th>\n",
       "      <th>file_name</th>\n",
       "      <th>date</th>\n",
       "      <th>orbit</th>\n",
       "      <th>path</th>\n",
       "      <th>camera</th>\n",
       "    </tr>\n",
       "  </thead>\n",
       "  <tbody>\n",
       "    <tr>\n",
       "      <th>0</th>\n",
       "      <td>/home/adiraz/adiraz/misr_data/MISR_AM1_GRP_TER...</td>\n",
       "      <td>2021-12-30</td>\n",
       "      <td>117205</td>\n",
       "      <td>40</td>\n",
       "      <td>9</td>\n",
       "    </tr>\n",
       "    <tr>\n",
       "      <th>1</th>\n",
       "      <td>/home/adiraz/adiraz/misr_data/MISR_AM1_GRP_TER...</td>\n",
       "      <td>2021-12-30</td>\n",
       "      <td>117205</td>\n",
       "      <td>40</td>\n",
       "      <td>8</td>\n",
       "    </tr>\n",
       "    <tr>\n",
       "      <th>2</th>\n",
       "      <td>/home/adiraz/adiraz/misr_data/MISR_AM1_GRP_TER...</td>\n",
       "      <td>2021-12-30</td>\n",
       "      <td>117205</td>\n",
       "      <td>40</td>\n",
       "      <td>7</td>\n",
       "    </tr>\n",
       "    <tr>\n",
       "      <th>3</th>\n",
       "      <td>/home/adiraz/adiraz/misr_data/MISR_AM1_GRP_TER...</td>\n",
       "      <td>2021-12-30</td>\n",
       "      <td>117205</td>\n",
       "      <td>40</td>\n",
       "      <td>6</td>\n",
       "    </tr>\n",
       "    <tr>\n",
       "      <th>4</th>\n",
       "      <td>/home/adiraz/adiraz/misr_data/MISR_AM1_GRP_TER...</td>\n",
       "      <td>2021-12-30</td>\n",
       "      <td>117205</td>\n",
       "      <td>40</td>\n",
       "      <td>5</td>\n",
       "    </tr>\n",
       "    <tr>\n",
       "      <th>...</th>\n",
       "      <td>...</td>\n",
       "      <td>...</td>\n",
       "      <td>...</td>\n",
       "      <td>...</td>\n",
       "      <td>...</td>\n",
       "    </tr>\n",
       "    <tr>\n",
       "      <th>235</th>\n",
       "      <td>/home/adiraz/adiraz/misr_data/MISR_AM1_GRP_TER...</td>\n",
       "      <td>2021-10-09</td>\n",
       "      <td>116011</td>\n",
       "      <td>42</td>\n",
       "      <td>8</td>\n",
       "    </tr>\n",
       "    <tr>\n",
       "      <th>236</th>\n",
       "      <td>/home/adiraz/adiraz/misr_data/MISR_AM1_GRP_TER...</td>\n",
       "      <td>2021-10-09</td>\n",
       "      <td>116011</td>\n",
       "      <td>42</td>\n",
       "      <td>7</td>\n",
       "    </tr>\n",
       "    <tr>\n",
       "      <th>237</th>\n",
       "      <td>/home/adiraz/adiraz/misr_data/MISR_AM1_GRP_TER...</td>\n",
       "      <td>2021-10-09</td>\n",
       "      <td>116011</td>\n",
       "      <td>42</td>\n",
       "      <td>6</td>\n",
       "    </tr>\n",
       "    <tr>\n",
       "      <th>238</th>\n",
       "      <td>/home/adiraz/adiraz/misr_data/MISR_AM1_GRP_TER...</td>\n",
       "      <td>2021-10-09</td>\n",
       "      <td>116011</td>\n",
       "      <td>42</td>\n",
       "      <td>5</td>\n",
       "    </tr>\n",
       "    <tr>\n",
       "      <th>239</th>\n",
       "      <td>/home/adiraz/adiraz/misr_data/MISR_AM1_GRP_TER...</td>\n",
       "      <td>2021-10-09</td>\n",
       "      <td>116011</td>\n",
       "      <td>42</td>\n",
       "      <td>4</td>\n",
       "    </tr>\n",
       "  </tbody>\n",
       "</table>\n",
       "<p>240 rows × 5 columns</p>\n",
       "</div>"
      ],
      "text/plain": [
       "                                             file_name        date   orbit  \\\n",
       "0    /home/adiraz/adiraz/misr_data/MISR_AM1_GRP_TER...  2021-12-30  117205   \n",
       "1    /home/adiraz/adiraz/misr_data/MISR_AM1_GRP_TER...  2021-12-30  117205   \n",
       "2    /home/adiraz/adiraz/misr_data/MISR_AM1_GRP_TER...  2021-12-30  117205   \n",
       "3    /home/adiraz/adiraz/misr_data/MISR_AM1_GRP_TER...  2021-12-30  117205   \n",
       "4    /home/adiraz/adiraz/misr_data/MISR_AM1_GRP_TER...  2021-12-30  117205   \n",
       "..                                                 ...         ...     ...   \n",
       "235  /home/adiraz/adiraz/misr_data/MISR_AM1_GRP_TER...  2021-10-09  116011   \n",
       "236  /home/adiraz/adiraz/misr_data/MISR_AM1_GRP_TER...  2021-10-09  116011   \n",
       "237  /home/adiraz/adiraz/misr_data/MISR_AM1_GRP_TER...  2021-10-09  116011   \n",
       "238  /home/adiraz/adiraz/misr_data/MISR_AM1_GRP_TER...  2021-10-09  116011   \n",
       "239  /home/adiraz/adiraz/misr_data/MISR_AM1_GRP_TER...  2021-10-09  116011   \n",
       "\n",
       "     path  camera  \n",
       "0      40       9  \n",
       "1      40       8  \n",
       "2      40       7  \n",
       "3      40       6  \n",
       "4      40       5  \n",
       "..    ...     ...  \n",
       "235    42       8  \n",
       "236    42       7  \n",
       "237    42       6  \n",
       "238    42       5  \n",
       "239    42       4  \n",
       "\n",
       "[240 rows x 5 columns]"
      ]
     },
     "execution_count": 68,
     "metadata": {},
     "output_type": "execute_result"
    }
   ],
   "source": [
    "misr_dir = '/home/adiraz/adiraz/misr_data'\n",
    "misr_df = get_misr_data_df(misr_dir)\n",
    "misr_df"
   ]
  },
  {
   "cell_type": "code",
   "execution_count": 4,
   "id": "66841d16-1405-4349-9abc-63bed8a07cd7",
   "metadata": {},
   "outputs": [
    {
     "name": "stdout",
     "output_type": "stream",
     "text": [
      "The autoreload extension is already loaded. To reload it, use:\n",
      "  %reload_ext autoreload\n"
     ]
    }
   ],
   "source": [
    "%load_ext autoreload\n",
    "%autoreload 2"
   ]
  },
  {
   "cell_type": "code",
   "execution_count": 6,
   "id": "2f2683f1-5f3c-4b3d-b742-014b08eb797a",
   "metadata": {},
   "outputs": [],
   "source": [
    "from pm_data import PM_Data\n",
    "from misr_tabular_data import get_misr_data_df\n",
    "import pandas\n",
    "pm_data_file = '/home/adiraz/adiraz/misr_data/la_pm_2021_daily.json'\n",
    "misr_dir = '/home/adiraz/adiraz/misr_data'\n",
    "\n",
    "pdaily = PM_Data(pm_data_file)\n",
    "pm_data = pdaily.load()\n",
    "misr_df = get_misr_data_df(misr_dir)\n"
   ]
  },
  {
   "cell_type": "code",
   "execution_count": 51,
   "id": "b2b708bd-a03f-459c-a973-61edd2b92b90",
   "metadata": {},
   "outputs": [
    {
     "data": {
      "text/plain": [
       "'/home/adiraz/adiraz/misr_data/MISR_AM1_GRP_TERRAIN_GM_P042_O116011_AF_F03_0024.hdf'"
      ]
     },
     "execution_count": 51,
     "metadata": {},
     "output_type": "execute_result"
    }
   ],
   "source": [
    "file"
   ]
  },
  {
   "cell_type": "code",
   "execution_count": null,
   "id": "132005dd-e833-4d91-a57a-c9750e6d3b07",
   "metadata": {},
   "outputs": [],
   "source": []
  }
 ],
 "metadata": {
  "kernelspec": {
   "display_name": "Python 3",
   "language": "python",
   "name": "python3"
  },
  "language_info": {
   "codemirror_mode": {
    "name": "ipython",
    "version": 3
   },
   "file_extension": ".py",
   "mimetype": "text/x-python",
   "name": "python",
   "nbconvert_exporter": "python",
   "pygments_lexer": "ipython3",
   "version": "3.6.13"
  }
 },
 "nbformat": 4,
 "nbformat_minor": 5
}
