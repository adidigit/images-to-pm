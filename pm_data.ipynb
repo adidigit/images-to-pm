{
 "cells": [
  {
   "cell_type": "code",
   "execution_count": null,
   "metadata": {
    "pycharm": {
     "name": "#%%\n"
    }
   },
   "outputs": [],
   "source": []
  },
  {
   "cell_type": "code",
   "execution_count": null,
   "metadata": {
    "collapsed": false,
    "jupyter": {
     "outputs_hidden": false
    },
    "pycharm": {
     "name": "#%%\n"
    }
   },
   "outputs": [],
   "source": [
    "import pandas as pd\n",
    "import json\n",
    "import numpy as np\n",
    "\n",
    "file_path = '/Users/adirazgoldfarb/Yoav Shechner/pm_data/la_pm_2021.json'\n",
    "import h5py\n",
    "f = h5py.File(misr_file)\n",
    "\n",
    "with open(file_path) as f:\n",
    "    data = (json.load(f))['Data']"
   ]
  },
  {
   "cell_type": "code",
   "execution_count": null,
   "metadata": {
    "collapsed": false,
    "jupyter": {
     "outputs_hidden": false
    },
    "pycharm": {
     "name": "#%%\n"
    }
   },
   "outputs": [],
   "source": [
    "df = pd.DataFrame(data)"
   ]
  },
  {
   "cell_type": "code",
   "execution_count": null,
   "metadata": {
    "collapsed": false,
    "jupyter": {
     "outputs_hidden": false
    },
    "pycharm": {
     "name": "#%%\n"
    }
   },
   "outputs": [],
   "source": [
    "np.min(df['sample_measurement'])"
   ]
  },
  {
   "cell_type": "code",
   "execution_count": null,
   "metadata": {},
   "outputs": [],
   "source": [
    "df.columns\n"
   ]
  },
  {
   "cell_type": "code",
   "execution_count": null,
   "metadata": {},
   "outputs": [],
   "source": [
    "df['date_local'] # sample data - feb 1 to may 1 2021"
   ]
  },
  {
   "cell_type": "code",
   "execution_count": 569,
   "metadata": {},
   "outputs": [],
   "source": [
    "\n",
    "import xarray as xr\n",
    "import rioxarray as rxr\n",
    "\n",
    "#level 1a  ASDC / Data / MISR / MI1AC.002 / 2021.03.16\n",
    "#calibration data\n",
    "calib_file = '/Users/adirazgoldfarb/Yoav Shechner/misr_data/MISR_AM1_FM_CAL_P001_O112994_AF_F01_0008.hdf'\n",
    "#https://asdc.larc.nasa.gov/data/MISR/MIL1A.002/2022.04.21/\n",
    "#level 1A\n",
    "misr_file_bf = '/Users/adirazgoldfarb/Yoav Shechner/misr_data/MISR_AM1_FM_SCI_P008_O118834_BF_F03_0024.hdf'#MISR_AM1_FM_SCI_P008_O118834_AA_F03_0024.hdf'\n",
    "misr_file_aa = '/Users/adirazgoldfarb/Yoav Shechner/misr_data/MISR_AM1_FM_SCI_P008_O118834_AA_F03_0024.hdf'#MISR_AM1_FM_SCI_P008_O118834_AA_F03_0024.hdf'\n",
    "\n",
    "\n",
    "\n",
    "#https://asdc.larc.nasa.gov/data/MISR/MI1B2E.003/2021.02.03/\n",
    "misr_file = '/Users/adirazgoldfarb/Yoav Shechner/misr_data/levelb2/MISR_AM1_GRP_ELLIPSOID_GM_P002_O112397_AA_F03_0024.hdf'"
   ]
  },
  {
   "cell_type": "code",
   "execution_count": 591,
   "metadata": {},
   "outputs": [
    {
     "data": {
      "text/html": [
       "<div><svg style=\"position: absolute; width: 0; height: 0; overflow: hidden\">\n",
       "<defs>\n",
       "<symbol id=\"icon-database\" viewBox=\"0 0 32 32\">\n",
       "<path d=\"M16 0c-8.837 0-16 2.239-16 5v4c0 2.761 7.163 5 16 5s16-2.239 16-5v-4c0-2.761-7.163-5-16-5z\"></path>\n",
       "<path d=\"M16 17c-8.837 0-16-2.239-16-5v6c0 2.761 7.163 5 16 5s16-2.239 16-5v-6c0 2.761-7.163 5-16 5z\"></path>\n",
       "<path d=\"M16 26c-8.837 0-16-2.239-16-5v6c0 2.761 7.163 5 16 5s16-2.239 16-5v-6c0 2.761-7.163 5-16 5z\"></path>\n",
       "</symbol>\n",
       "<symbol id=\"icon-file-text2\" viewBox=\"0 0 32 32\">\n",
       "<path d=\"M28.681 7.159c-0.694-0.947-1.662-2.053-2.724-3.116s-2.169-2.030-3.116-2.724c-1.612-1.182-2.393-1.319-2.841-1.319h-15.5c-1.378 0-2.5 1.121-2.5 2.5v27c0 1.378 1.122 2.5 2.5 2.5h23c1.378 0 2.5-1.122 2.5-2.5v-19.5c0-0.448-0.137-1.23-1.319-2.841zM24.543 5.457c0.959 0.959 1.712 1.825 2.268 2.543h-4.811v-4.811c0.718 0.556 1.584 1.309 2.543 2.268zM28 29.5c0 0.271-0.229 0.5-0.5 0.5h-23c-0.271 0-0.5-0.229-0.5-0.5v-27c0-0.271 0.229-0.5 0.5-0.5 0 0 15.499-0 15.5 0v7c0 0.552 0.448 1 1 1h7v19.5z\"></path>\n",
       "<path d=\"M23 26h-14c-0.552 0-1-0.448-1-1s0.448-1 1-1h14c0.552 0 1 0.448 1 1s-0.448 1-1 1z\"></path>\n",
       "<path d=\"M23 22h-14c-0.552 0-1-0.448-1-1s0.448-1 1-1h14c0.552 0 1 0.448 1 1s-0.448 1-1 1z\"></path>\n",
       "<path d=\"M23 18h-14c-0.552 0-1-0.448-1-1s0.448-1 1-1h14c0.552 0 1 0.448 1 1s-0.448 1-1 1z\"></path>\n",
       "</symbol>\n",
       "</defs>\n",
       "</svg>\n",
       "<style>/* CSS stylesheet for displaying xarray objects in jupyterlab.\n",
       " *\n",
       " */\n",
       "\n",
       ":root {\n",
       "  --xr-font-color0: var(--jp-content-font-color0, rgba(0, 0, 0, 1));\n",
       "  --xr-font-color2: var(--jp-content-font-color2, rgba(0, 0, 0, 0.54));\n",
       "  --xr-font-color3: var(--jp-content-font-color3, rgba(0, 0, 0, 0.38));\n",
       "  --xr-border-color: var(--jp-border-color2, #e0e0e0);\n",
       "  --xr-disabled-color: var(--jp-layout-color3, #bdbdbd);\n",
       "  --xr-background-color: var(--jp-layout-color0, white);\n",
       "  --xr-background-color-row-even: var(--jp-layout-color1, white);\n",
       "  --xr-background-color-row-odd: var(--jp-layout-color2, #eeeeee);\n",
       "}\n",
       "\n",
       "html[theme=dark],\n",
       "body[data-theme=dark],\n",
       "body.vscode-dark {\n",
       "  --xr-font-color0: rgba(255, 255, 255, 1);\n",
       "  --xr-font-color2: rgba(255, 255, 255, 0.54);\n",
       "  --xr-font-color3: rgba(255, 255, 255, 0.38);\n",
       "  --xr-border-color: #1F1F1F;\n",
       "  --xr-disabled-color: #515151;\n",
       "  --xr-background-color: #111111;\n",
       "  --xr-background-color-row-even: #111111;\n",
       "  --xr-background-color-row-odd: #313131;\n",
       "}\n",
       "\n",
       ".xr-wrap {\n",
       "  display: block !important;\n",
       "  min-width: 300px;\n",
       "  max-width: 700px;\n",
       "}\n",
       "\n",
       ".xr-text-repr-fallback {\n",
       "  /* fallback to plain text repr when CSS is not injected (untrusted notebook) */\n",
       "  display: none;\n",
       "}\n",
       "\n",
       ".xr-header {\n",
       "  padding-top: 6px;\n",
       "  padding-bottom: 6px;\n",
       "  margin-bottom: 4px;\n",
       "  border-bottom: solid 1px var(--xr-border-color);\n",
       "}\n",
       "\n",
       ".xr-header > div,\n",
       ".xr-header > ul {\n",
       "  display: inline;\n",
       "  margin-top: 0;\n",
       "  margin-bottom: 0;\n",
       "}\n",
       "\n",
       ".xr-obj-type,\n",
       ".xr-array-name {\n",
       "  margin-left: 2px;\n",
       "  margin-right: 10px;\n",
       "}\n",
       "\n",
       ".xr-obj-type {\n",
       "  color: var(--xr-font-color2);\n",
       "}\n",
       "\n",
       ".xr-sections {\n",
       "  padding-left: 0 !important;\n",
       "  display: grid;\n",
       "  grid-template-columns: 150px auto auto 1fr 20px 20px;\n",
       "}\n",
       "\n",
       ".xr-section-item {\n",
       "  display: contents;\n",
       "}\n",
       "\n",
       ".xr-section-item input {\n",
       "  display: none;\n",
       "}\n",
       "\n",
       ".xr-section-item input + label {\n",
       "  color: var(--xr-disabled-color);\n",
       "}\n",
       "\n",
       ".xr-section-item input:enabled + label {\n",
       "  cursor: pointer;\n",
       "  color: var(--xr-font-color2);\n",
       "}\n",
       "\n",
       ".xr-section-item input:enabled + label:hover {\n",
       "  color: var(--xr-font-color0);\n",
       "}\n",
       "\n",
       ".xr-section-summary {\n",
       "  grid-column: 1;\n",
       "  color: var(--xr-font-color2);\n",
       "  font-weight: 500;\n",
       "}\n",
       "\n",
       ".xr-section-summary > span {\n",
       "  display: inline-block;\n",
       "  padding-left: 0.5em;\n",
       "}\n",
       "\n",
       ".xr-section-summary-in:disabled + label {\n",
       "  color: var(--xr-font-color2);\n",
       "}\n",
       "\n",
       ".xr-section-summary-in + label:before {\n",
       "  display: inline-block;\n",
       "  content: '►';\n",
       "  font-size: 11px;\n",
       "  width: 15px;\n",
       "  text-align: center;\n",
       "}\n",
       "\n",
       ".xr-section-summary-in:disabled + label:before {\n",
       "  color: var(--xr-disabled-color);\n",
       "}\n",
       "\n",
       ".xr-section-summary-in:checked + label:before {\n",
       "  content: '▼';\n",
       "}\n",
       "\n",
       ".xr-section-summary-in:checked + label > span {\n",
       "  display: none;\n",
       "}\n",
       "\n",
       ".xr-section-summary,\n",
       ".xr-section-inline-details {\n",
       "  padding-top: 4px;\n",
       "  padding-bottom: 4px;\n",
       "}\n",
       "\n",
       ".xr-section-inline-details {\n",
       "  grid-column: 2 / -1;\n",
       "}\n",
       "\n",
       ".xr-section-details {\n",
       "  display: none;\n",
       "  grid-column: 1 / -1;\n",
       "  margin-bottom: 5px;\n",
       "}\n",
       "\n",
       ".xr-section-summary-in:checked ~ .xr-section-details {\n",
       "  display: contents;\n",
       "}\n",
       "\n",
       ".xr-array-wrap {\n",
       "  grid-column: 1 / -1;\n",
       "  display: grid;\n",
       "  grid-template-columns: 20px auto;\n",
       "}\n",
       "\n",
       ".xr-array-wrap > label {\n",
       "  grid-column: 1;\n",
       "  vertical-align: top;\n",
       "}\n",
       "\n",
       ".xr-preview {\n",
       "  color: var(--xr-font-color3);\n",
       "}\n",
       "\n",
       ".xr-array-preview,\n",
       ".xr-array-data {\n",
       "  padding: 0 5px !important;\n",
       "  grid-column: 2;\n",
       "}\n",
       "\n",
       ".xr-array-data,\n",
       ".xr-array-in:checked ~ .xr-array-preview {\n",
       "  display: none;\n",
       "}\n",
       "\n",
       ".xr-array-in:checked ~ .xr-array-data,\n",
       ".xr-array-preview {\n",
       "  display: inline-block;\n",
       "}\n",
       "\n",
       ".xr-dim-list {\n",
       "  display: inline-block !important;\n",
       "  list-style: none;\n",
       "  padding: 0 !important;\n",
       "  margin: 0;\n",
       "}\n",
       "\n",
       ".xr-dim-list li {\n",
       "  display: inline-block;\n",
       "  padding: 0;\n",
       "  margin: 0;\n",
       "}\n",
       "\n",
       ".xr-dim-list:before {\n",
       "  content: '(';\n",
       "}\n",
       "\n",
       ".xr-dim-list:after {\n",
       "  content: ')';\n",
       "}\n",
       "\n",
       ".xr-dim-list li:not(:last-child):after {\n",
       "  content: ',';\n",
       "  padding-right: 5px;\n",
       "}\n",
       "\n",
       ".xr-has-index {\n",
       "  font-weight: bold;\n",
       "}\n",
       "\n",
       ".xr-var-list,\n",
       ".xr-var-item {\n",
       "  display: contents;\n",
       "}\n",
       "\n",
       ".xr-var-item > div,\n",
       ".xr-var-item label,\n",
       ".xr-var-item > .xr-var-name span {\n",
       "  background-color: var(--xr-background-color-row-even);\n",
       "  margin-bottom: 0;\n",
       "}\n",
       "\n",
       ".xr-var-item > .xr-var-name:hover span {\n",
       "  padding-right: 5px;\n",
       "}\n",
       "\n",
       ".xr-var-list > li:nth-child(odd) > div,\n",
       ".xr-var-list > li:nth-child(odd) > label,\n",
       ".xr-var-list > li:nth-child(odd) > .xr-var-name span {\n",
       "  background-color: var(--xr-background-color-row-odd);\n",
       "}\n",
       "\n",
       ".xr-var-name {\n",
       "  grid-column: 1;\n",
       "}\n",
       "\n",
       ".xr-var-dims {\n",
       "  grid-column: 2;\n",
       "}\n",
       "\n",
       ".xr-var-dtype {\n",
       "  grid-column: 3;\n",
       "  text-align: right;\n",
       "  color: var(--xr-font-color2);\n",
       "}\n",
       "\n",
       ".xr-var-preview {\n",
       "  grid-column: 4;\n",
       "}\n",
       "\n",
       ".xr-var-name,\n",
       ".xr-var-dims,\n",
       ".xr-var-dtype,\n",
       ".xr-preview,\n",
       ".xr-attrs dt {\n",
       "  white-space: nowrap;\n",
       "  overflow: hidden;\n",
       "  text-overflow: ellipsis;\n",
       "  padding-right: 10px;\n",
       "}\n",
       "\n",
       ".xr-var-name:hover,\n",
       ".xr-var-dims:hover,\n",
       ".xr-var-dtype:hover,\n",
       ".xr-attrs dt:hover {\n",
       "  overflow: visible;\n",
       "  width: auto;\n",
       "  z-index: 1;\n",
       "}\n",
       "\n",
       ".xr-var-attrs,\n",
       ".xr-var-data {\n",
       "  display: none;\n",
       "  background-color: var(--xr-background-color) !important;\n",
       "  padding-bottom: 5px !important;\n",
       "}\n",
       "\n",
       ".xr-var-attrs-in:checked ~ .xr-var-attrs,\n",
       ".xr-var-data-in:checked ~ .xr-var-data {\n",
       "  display: block;\n",
       "}\n",
       "\n",
       ".xr-var-data > table {\n",
       "  float: right;\n",
       "}\n",
       "\n",
       ".xr-var-name span,\n",
       ".xr-var-data,\n",
       ".xr-attrs {\n",
       "  padding-left: 25px !important;\n",
       "}\n",
       "\n",
       ".xr-attrs,\n",
       ".xr-var-attrs,\n",
       ".xr-var-data {\n",
       "  grid-column: 1 / -1;\n",
       "}\n",
       "\n",
       "dl.xr-attrs {\n",
       "  padding: 0;\n",
       "  margin: 0;\n",
       "  display: grid;\n",
       "  grid-template-columns: 125px auto;\n",
       "}\n",
       "\n",
       ".xr-attrs dt,\n",
       ".xr-attrs dd {\n",
       "  padding: 0;\n",
       "  margin: 0;\n",
       "  float: left;\n",
       "  padding-right: 10px;\n",
       "  width: auto;\n",
       "}\n",
       "\n",
       ".xr-attrs dt {\n",
       "  font-weight: normal;\n",
       "  grid-column: 1;\n",
       "}\n",
       "\n",
       ".xr-attrs dt:hover span {\n",
       "  display: inline-block;\n",
       "  background: var(--xr-background-color);\n",
       "  padding-right: 10px;\n",
       "}\n",
       "\n",
       ".xr-attrs dd {\n",
       "  grid-column: 2;\n",
       "  white-space: pre-wrap;\n",
       "  word-break: break-all;\n",
       "}\n",
       "\n",
       ".xr-icon-database,\n",
       ".xr-icon-file-text2 {\n",
       "  display: inline-block;\n",
       "  vertical-align: middle;\n",
       "  width: 1em;\n",
       "  height: 1.5em !important;\n",
       "  stroke-width: 0;\n",
       "  stroke: currentColor;\n",
       "  fill: currentColor;\n",
       "}\n",
       "</style><pre class='xr-text-repr-fallback'>&lt;xarray.Dataset&gt;\n",
       "Dimensions:            (band: 180, x: 512, y: 2048)\n",
       "Coordinates:\n",
       "  * band               (band) int64 1 2 3 4 5 6 7 ... 175 176 177 178 179 180\n",
       "  * x                  (x) float64 7.461e+06 7.461e+06 ... 7.601e+06 7.601e+06\n",
       "  * y                  (y) float64 1.091e+06 1.09e+06 ... 5.279e+05 5.276e+05\n",
       "    spatial_ref        int64 0\n",
       "Data variables:\n",
       "    Red Radiance_RDQI  (band, y, x) uint16 ...\n",
       "Attributes: (12/60)\n",
       "    AGP_version_id:                     2\n",
       "    ASSOCIATEDINSTRUMENTSHORTNAME.1:    MISR\n",
       "    ASSOCIATEDPLATFORMSHORTNAME.1:      AM-1\n",
       "    ASSOCIATEDSENSORSHORTNAME.1:        AA\n",
       "    AUTOMATICQUALITYFLAG.1:             Not Investigated\n",
       "    AUTOMATICQUALITYFLAGEXPLANATION.1:  Automatic quality determination softw...\n",
       "    ...                                 ...\n",
       "    SP_AM_MISR_EndBlock:                172\n",
       "    SP_AM_MISR_ProductVersion:          24\n",
       "    SP_AM_MISR_StartBlock:              29\n",
       "    SP_AM_PATH_NO:                      2\n",
       "    Start_block:                        29\n",
       "    VERSIONID:                          3</pre><div class='xr-wrap' style='display:none'><div class='xr-header'><div class='xr-obj-type'>xarray.Dataset</div></div><ul class='xr-sections'><li class='xr-section-item'><input id='section-5ebd65f5-fda8-4733-9564-7f3eea9b07df' class='xr-section-summary-in' type='checkbox' disabled ><label for='section-5ebd65f5-fda8-4733-9564-7f3eea9b07df' class='xr-section-summary'  title='Expand/collapse section'>Dimensions:</label><div class='xr-section-inline-details'><ul class='xr-dim-list'><li><span class='xr-has-index'>band</span>: 180</li><li><span class='xr-has-index'>x</span>: 512</li><li><span class='xr-has-index'>y</span>: 2048</li></ul></div><div class='xr-section-details'></div></li><li class='xr-section-item'><input id='section-f417abe2-4c96-4ef7-8bbe-6e250c369eb2' class='xr-section-summary-in' type='checkbox'  checked><label for='section-f417abe2-4c96-4ef7-8bbe-6e250c369eb2' class='xr-section-summary' >Coordinates: <span>(4)</span></label><div class='xr-section-inline-details'></div><div class='xr-section-details'><ul class='xr-var-list'><li class='xr-var-item'><div class='xr-var-name'><span class='xr-has-index'>band</span></div><div class='xr-var-dims'>(band)</div><div class='xr-var-dtype'>int64</div><div class='xr-var-preview xr-preview'>1 2 3 4 5 6 ... 176 177 178 179 180</div><input id='attrs-da96ffd3-a478-4cd1-a3b5-0dcce0ddd05b' class='xr-var-attrs-in' type='checkbox' disabled><label for='attrs-da96ffd3-a478-4cd1-a3b5-0dcce0ddd05b' title='Show/Hide attributes'><svg class='icon xr-icon-file-text2'><use xlink:href='#icon-file-text2'></use></svg></label><input id='data-54321972-376d-49f8-a3f0-62ebfaf0ca41' class='xr-var-data-in' type='checkbox'><label for='data-54321972-376d-49f8-a3f0-62ebfaf0ca41' title='Show/Hide data repr'><svg class='icon xr-icon-database'><use xlink:href='#icon-database'></use></svg></label><div class='xr-var-attrs'><dl class='xr-attrs'></dl></div><div class='xr-var-data'><pre>array([  1,   2,   3,   4,   5,   6,   7,   8,   9,  10,  11,  12,  13,  14,\n",
       "        15,  16,  17,  18,  19,  20,  21,  22,  23,  24,  25,  26,  27,  28,\n",
       "        29,  30,  31,  32,  33,  34,  35,  36,  37,  38,  39,  40,  41,  42,\n",
       "        43,  44,  45,  46,  47,  48,  49,  50,  51,  52,  53,  54,  55,  56,\n",
       "        57,  58,  59,  60,  61,  62,  63,  64,  65,  66,  67,  68,  69,  70,\n",
       "        71,  72,  73,  74,  75,  76,  77,  78,  79,  80,  81,  82,  83,  84,\n",
       "        85,  86,  87,  88,  89,  90,  91,  92,  93,  94,  95,  96,  97,  98,\n",
       "        99, 100, 101, 102, 103, 104, 105, 106, 107, 108, 109, 110, 111, 112,\n",
       "       113, 114, 115, 116, 117, 118, 119, 120, 121, 122, 123, 124, 125, 126,\n",
       "       127, 128, 129, 130, 131, 132, 133, 134, 135, 136, 137, 138, 139, 140,\n",
       "       141, 142, 143, 144, 145, 146, 147, 148, 149, 150, 151, 152, 153, 154,\n",
       "       155, 156, 157, 158, 159, 160, 161, 162, 163, 164, 165, 166, 167, 168,\n",
       "       169, 170, 171, 172, 173, 174, 175, 176, 177, 178, 179, 180])</pre></div></li><li class='xr-var-item'><div class='xr-var-name'><span class='xr-has-index'>x</span></div><div class='xr-var-dims'>(x)</div><div class='xr-var-dtype'>float64</div><div class='xr-var-preview xr-preview'>7.461e+06 7.461e+06 ... 7.601e+06</div><input id='attrs-263ef99b-f8af-479e-8cca-3ec3ebe2d498' class='xr-var-attrs-in' type='checkbox' disabled><label for='attrs-263ef99b-f8af-479e-8cca-3ec3ebe2d498' title='Show/Hide attributes'><svg class='icon xr-icon-file-text2'><use xlink:href='#icon-file-text2'></use></svg></label><input id='data-9c5a7d2d-9193-44eb-a72b-66781afa4bc6' class='xr-var-data-in' type='checkbox'><label for='data-9c5a7d2d-9193-44eb-a72b-66781afa4bc6' title='Show/Hide data repr'><svg class='icon xr-icon-database'><use xlink:href='#icon-database'></use></svg></label><div class='xr-var-attrs'><dl class='xr-attrs'></dl></div><div class='xr-var-data'><pre>array([7460887.5, 7461162.5, 7461437.5, ..., 7600862.5, 7601137.5, 7601412.5])</pre></div></li><li class='xr-var-item'><div class='xr-var-name'><span class='xr-has-index'>y</span></div><div class='xr-var-dims'>(y)</div><div class='xr-var-dtype'>float64</div><div class='xr-var-preview xr-preview'>1.091e+06 1.09e+06 ... 5.276e+05</div><input id='attrs-c12b3a82-0759-4286-b4f3-56ccacbb14c6' class='xr-var-attrs-in' type='checkbox' disabled><label for='attrs-c12b3a82-0759-4286-b4f3-56ccacbb14c6' title='Show/Hide attributes'><svg class='icon xr-icon-file-text2'><use xlink:href='#icon-file-text2'></use></svg></label><input id='data-c6c77d91-2a06-4caa-a274-863aa775213b' class='xr-var-data-in' type='checkbox'><label for='data-c6c77d91-2a06-4caa-a274-863aa775213b' title='Show/Hide data repr'><svg class='icon xr-icon-database'><use xlink:href='#icon-database'></use></svg></label><div class='xr-var-attrs'><dl class='xr-attrs'></dl></div><div class='xr-var-data'><pre>array([1090512.5, 1090237.5, 1089962.5, ...,  528137.5,  527862.5,  527587.5])</pre></div></li><li class='xr-var-item'><div class='xr-var-name'><span>spatial_ref</span></div><div class='xr-var-dims'>()</div><div class='xr-var-dtype'>int64</div><div class='xr-var-preview xr-preview'>0</div><input id='attrs-4c8b73e2-b6fe-4245-a70e-170453d9a04a' class='xr-var-attrs-in' type='checkbox' ><label for='attrs-4c8b73e2-b6fe-4245-a70e-170453d9a04a' title='Show/Hide attributes'><svg class='icon xr-icon-file-text2'><use xlink:href='#icon-file-text2'></use></svg></label><input id='data-89957f39-6cb9-4000-8773-c8a20e7b67a4' class='xr-var-data-in' type='checkbox'><label for='data-89957f39-6cb9-4000-8773-c8a20e7b67a4' title='Show/Hide data repr'><svg class='icon xr-icon-database'><use xlink:href='#icon-database'></use></svg></label><div class='xr-var-attrs'><dl class='xr-attrs'><dt><span>crs_wkt :</span></dt><dd>LOCAL_CS[&quot;GCTP projection number 22&quot;,UNIT[&quot;Meter&quot;,1],AXIS[&quot;Easting&quot;,EAST],AXIS[&quot;Northing&quot;,NORTH]]</dd><dt><span>spatial_ref :</span></dt><dd>LOCAL_CS[&quot;GCTP projection number 22&quot;,UNIT[&quot;Meter&quot;,1],AXIS[&quot;Easting&quot;,EAST],AXIS[&quot;Northing&quot;,NORTH]]</dd><dt><span>GeoTransform :</span></dt><dd>7460750.0 275.0 0.0 1090650.0 0.0 -275.0</dd></dl></div><div class='xr-var-data'><pre>array(0)</pre></div></li></ul></div></li><li class='xr-section-item'><input id='section-a3e15706-8d5f-4169-9af1-1a5132a63d94' class='xr-section-summary-in' type='checkbox'  checked><label for='section-a3e15706-8d5f-4169-9af1-1a5132a63d94' class='xr-section-summary' >Data variables: <span>(1)</span></label><div class='xr-section-inline-details'></div><div class='xr-section-details'><ul class='xr-var-list'><li class='xr-var-item'><div class='xr-var-name'><span>Red Radiance_RDQI</span></div><div class='xr-var-dims'>(band, y, x)</div><div class='xr-var-dtype'>uint16</div><div class='xr-var-preview xr-preview'>...</div><input id='attrs-662a0032-174a-4020-970b-798d97c12db8' class='xr-var-attrs-in' type='checkbox' ><label for='attrs-662a0032-174a-4020-970b-798d97c12db8' title='Show/Hide attributes'><svg class='icon xr-icon-file-text2'><use xlink:href='#icon-file-text2'></use></svg></label><input id='data-f8da3781-8792-4997-885e-edf438d98226' class='xr-var-data-in' type='checkbox'><label for='data-f8da3781-8792-4997-885e-edf438d98226' title='Show/Hide data repr'><svg class='icon xr-icon-database'><use xlink:href='#icon-database'></use></svg></label><div class='xr-var-attrs'><dl class='xr-attrs'><dt><span>_FillValue :</span></dt><dd>65515.0</dd><dt><span>scale_factor :</span></dt><dd>1.0</dd><dt><span>add_offset :</span></dt><dd>0.0</dd></dl></div><div class='xr-var-data'><pre>[188743680 values with dtype=uint16]</pre></div></li></ul></div></li><li class='xr-section-item'><input id='section-0ea43f16-4bd3-486c-be46-9bdc4d4ec55e' class='xr-section-summary-in' type='checkbox'  ><label for='section-0ea43f16-4bd3-486c-be46-9bdc4d4ec55e' class='xr-section-summary' >Attributes: <span>(60)</span></label><div class='xr-section-inline-details'></div><div class='xr-section-details'><dl class='xr-attrs'><dt><span>AGP_version_id :</span></dt><dd>2</dd><dt><span>ASSOCIATEDINSTRUMENTSHORTNAME.1 :</span></dt><dd>MISR</dd><dt><span>ASSOCIATEDPLATFORMSHORTNAME.1 :</span></dt><dd>AM-1</dd><dt><span>ASSOCIATEDSENSORSHORTNAME.1 :</span></dt><dd>AA</dd><dt><span>AUTOMATICQUALITYFLAG.1 :</span></dt><dd>Not Investigated</dd><dt><span>AUTOMATICQUALITYFLAGEXPLANATION.1 :</span></dt><dd>Automatic quality determination software not yet implemented</dd><dt><span>Camera :</span></dt><dd>6</dd><dt><span>Cam_mode :</span></dt><dd>1</dd><dt><span>DID_version_id :</span></dt><dd>4</dd><dt><span>End block :</span></dt><dd>172</dd><dt><span>EQUATORCROSSINGDATE.1 :</span></dt><dd>2021-02-03</dd><dt><span>EQUATORCROSSINGLONGITUDE.1 :</span></dt><dd>-65.9860067412897</dd><dt><span>EQUATORCROSSINGTIME.1 :</span></dt><dd>14:53:34.600711Z</dd><dt><span>EXCLUSIONGRINGFLAG.1 :</span></dt><dd>N</dd><dt><span>GRINGPOINTLATITUDE.1 :</span></dt><dd>76.8366489685991, 75.6903302762959, 73.0482997382028, 74.008511452286, 75.6903302762959, 74.5269356324926, 72.0511581574938, 73.0482997382028, 74.5269356324926, 73.3499927485409, 71.0228760370323, 72.0511581574938, 73.4038543873039, 72.2126458038231, 70.051799699302, 71.1110681118251, 72.2126458038231, 71.0129242552374, 68.970456109784, 70.051799699302, 71.0129242552374, 69.8061549220072, 67.8702407111402, 68.970456109784, 69.8500582385327, 68.6351438855248, 66.8249182642297, 67.9449003831943, 68.6351438855248, 67.4154647342452, 65.6911957162977, 66.8249182642297, 67.4154647342452, 66.1917019407733, 64.5455365579836, 65.6911957162977, 66.2286591935969, 64.9998024421632, 63.450827712579, 64.6096525822769, 64.9998024421632, 63.7680080122098, 62.2830558430658, 63.450827712579, 63.801156493016, 62.5655357890469, 61.1632144449634, 62.3411974749225, 62.5655357890469, 61.3277217889438, 59.978402129349, 61.1632144449634, 61.3577468963361, 60.1169757300121, 58.8385477044197, 60.0314165273873, 60.1169757300121, 58.8745088061137, 57.6403750802594, 58.8385477044197, 58.9019423844543, 57.6571306331904, 56.4843282927967, 57.688960217287, 57.6830974096697, 56.4362257738286, 55.3202425662676, 56.5306251389749, 56.4362257738286, 55.1881563184843, 54.1061679627677, 55.3202425662676, 55.212156791301, 53.962396920061, 52.9300978013439, 54.1488838796856, 53.962396920061, 52.7116346854587, 51.7083326984658, 52.9300978013439, 52.7339681000691, 51.4817905138098, 50.5222273112577, 51.7479036426977, 51.5031165011985, 50.2496624681592, 49.330905959172, 50.5601203016216, 50.2496624681592, 48.9954174226868, 48.099507777397, 49.330905959172, 49.015447981185, 47.7601050835226, 46.9004118927392, 48.1347990672285, 47.7793219175662, 46.5229757112603, 45.6971783024495, 46.9342911868239, 46.5414398034523, 45.2841728943813, 44.4901223363155, 45.7297268698529, 45.2841728943813, 44.0262861670613, 43.2490286658772, 44.4901223363155, 44.0438254098672, 42.7851233559088, 42.0362876642318, 43.279528188045, 42.8020492260232, 41.5425911903658, 40.8204365679269, 42.0656526923605, 41.5589492087638, 40.2987880104524, 39.601690880065, 40.8487285904123, 40.3146205808968, 39.0538034685199, 38.380246964936, 39.6289673600215, 39.0538034685199, 37.7924869903374, 37.1305623308006, 38.380246964936, 37.8077196407402, 36.5458080933145, 35.9051224848505, 37.1562842210859, 36.5606119879636, 35.2981420189356, 34.6774343563049, 35.9299669794291, 35.3125501889898, 34.0495553340556, 33.4476395690942, 34.7014461649748, 34.0635988653712, 32.8001100070803, 32.2158688729656, 33.4708607548159, 32.8138182136806, 31.5498639777463, 30.9822432910319, 32.238339060081, 31.5632645585677, 30.2988716568781, 29.7468751331133, 31.0039998554131, 30.3119908377993, 29.0471843658162, 28.5098688922312, 29.7679533760626, 29.060047028716, 27.7948507237305, 27.2713220391358, 28.5303021997649, 27.8074805240943, 26.5419169897946, 26.0313257276552, 27.2911420281151, 26.5543364641962, 25.2884273661721, 24.7899654218847, 26.0505623800767, 25.3006580307963, 24.034424266914, 23.547321454731, 24.8086472085055, 24.0464867081395, 22.7799485571446, 22.303469526049, 23.5654754490839, 22.7918625150899, 21.5250397663221, 21.0584811475227, 22.3211215097955, 21.5368242121483, 20.2697362788493, 19.8124240405119, 21.0756557079938, 20.2814094865265, 19.0140755048905, 18.5653624922935, 19.829144661204, 19.0256551180543, 17.7580940338907, 17.3173576754463, 18.5816516370092, 17.7695971283485, 16.5018277729926, 16.068467934545, 17.3332368667032, 16.5132709153819, 15.2453120722913, 14.8187490438278, 16.0839578268171, 15.2567114134324, 13.9885818775227, 13.5682544390698, 14.8338694921286, 13.9999530545656, 12.7316716813535, 12.3170354265237, 13.5830245633436, 12.7430300894637, 11.4746158434953, 11.0651413714667, 12.331473672265, 11.4859765371499, 10.2174485318862, 9.81261986861691, 11.0792655669573, 10.2288263063226, 8.96020384083904, 8.55951689644309, 9.82644727913194, 8.97161327575201, 7.70291586810709, 7.30587695718252, 8.57306427575322, 7.71437136991997, 6.44561878792048, 6.05174320420571, 7.31916059665322, 6.46860139255556, 5.19993728723711, 4.80996097549588, 6.0777690406949, 5.21148817303739, 3.94281382119698, 3.55474705140412, 4.8227281978162, 3.95446291988023, 2.68579903441352, 2.29917668868816, 3.56730658928468, 2.69756042965594, 1.42892811358276, 1.04328847133159, 2.31154341974604, 1.44081592243545, 0.172236696530304, -0.2128798308763, 1.05547703756971, 0.184265107798333, -1.08423906036533, -1.46929118451979, -0.200854983070036, -1.07205574762832, -2.34046241258714, -2.72590921900066, -1.45741576510182, -2.32810975027408, -3.59639595488482, -3.98269815636283, -2.71416905552893, -3.58385930652275, -4.85200154479123, -5.23962274364853, -3.97107915558737, -4.83926604552236, -6.10724022133356, -6.49664818695706, -5.22811085323958, -6.0942907369848, -7.36207211796929, -7.75374008639448, -6.48522935717652, -7.33565875553354, -8.60303222281699, -8.9995893303529, -7.73100144401693, -8.58954294124153, -9.85666542949336, -10.2567627314293, -8.98824564958703, -9.84290506356577, -11.1097491971665, -11.5138866679344, -10.2454598134987, -11.0957010416195, -12.36223851766, -12.7709274577164, -11.5026100041187, -12.3478853631934, -13.6140868649556, -14.0278514289058, -12.7596623324605, -13.5994109468431, -14.865246045939, -15.2846248410227, -14.0165828764181, -14.8502289899498, -16.11566603565, -16.5412138005328, -15.2733376002146, -16.100288800956, -17.3652947950627, -17.7975841360856, -16.5298922330122, -17.34953761378, -18.6140780691962, -19.0537014371347, -17.7862123184577, -18.5979203821717, -19.8619591630807, -20.3095307348378, -19.0422628943964, -19.8453795515011, -21.1088786927955, -21.5650365269496, -20.2980085305657, -21.0918548051533, -22.3547743084321, -22.820182609958, -21.5534131684569, -22.3372827823366, -23.5995803854157, -24.0749319337844, -22.8084399863723, -23.5815967636829, -24.8432276801284, -25.3292464402444, -24.063051249832, -24.8247263205249, -26.085642945208, -26.5830868828966, -25.3172081451828, -26.0665969231558, -27.3267484992337, -27.8364126255752, -26.5708705939746, -27.3071295027054, -28.5664617447307, -29.0891814164931, -27.8239970453189, -28.5462399604791, -29.804694627518, -30.3413491343348, -29.0765442430294, -29.7838386176873, -31.0413530293581, -31.5928695021822, -30.328466963856, -31.019829597414, -32.2763360846119, -32.8436937644433, -31.5797177225385, -32.2541101294043, -33.509535410127, -34.0937703211404, -32.8302464387056, -33.4865697667621, -34.7408342358427, -35.3430443129399, -34.0800000598126, -34.7170895018859, -35.9701064215357, -36.5914571491321, -35.3289221333089, -35.9455407668917, -37.1972153426806, -37.8389459693557, -36.5769523200195, -37.1972153426806, -38.4480232613989, -39.1004628906994, -37.8389459693557, -38.4220126255009, -39.6712965160085, -40.3463663816992, -39.0854430281408, -39.6443367078194, -40.8919736698486, -41.5911641498758, -40.3308749892592, -40.8640111981926, -42.1098653080576, -42.8347719053192, -41.5751621143212, -42.0808430008769, -43.3247634996716, -44.0770972320661, -42.8182173269328, -43.294620168253, -44.5364393669504, -45.3180383682426, -44.0599451298871, -44.5364393669504, -45.7768033194823, -46.5755255095487, -45.3180383682426, -45.7446402865735, -46.9825658922188, -47.8140831998779, -46.5574827845689, -46.9490866587498, -48.1843445446089, -49.0509401299955, -47.7953055217303, -48.1494681678589, -49.3818002044319, -50.2859454564666, -49.0313672381074, -49.3818002044319, -50.6119996908606, -51.5397573761426, -50.2859454564666, -50.5745543111743, -51.8012903560222, -52.7715149693739, -51.5189295500947, -51.7621829905657, -52.9850892495415, -54.0009264847943, -52.7497008461156, -52.9850892495415, -54.2050863834951, -55.2511870919297, -54.0009264847943, -54.1628694195282, -55.3782519445662, -56.4763907815822, -55.227752640565, -55.3782519445662, -56.5900282749254, -57.7238797773865, -56.4763907815822, -56.5442676723624, -57.7504092370441, -58.9440441454845, -57.6985309575068, -57.7023778625242, -58.9021872411931, -60.1605188975585, -58.9172557069011, -58.9021872411931, -60.0968106846026, -61.4021608341789, -60.1605188975585, -60.0443891138643, -61.2311088528941, -62.6116467257955, -61.3728422159253, -61.2311088528941, -62.4111449057672, -63.8483571456273, -62.6116467257955, -62.3536354926995, -63.5236442949209, -65.0490221432681, -63.8159843778797, -63.5236442949209, -64.6848858137584, -66.2792561566344, -65.0490221432681, -64.6848858137584, -65.8361326022248, -67.5062852685348, -66.2792561566344, -65.7697363742799, -66.9063166315564, -68.6899344087989, -67.4684936729422, -66.9063166315564, -68.0294000961418, -69.9068250863593, -68.6899344087989, -67.9554616985543, -69.0590620885995, -71.0729712640719, -69.8639168591281, -69.0590620885995, -70.1440808017031, -72.2752811338835, -71.0729712640719, -70.1440808017031, -71.2073377843847, -73.4694388229321, -72.2752811338835, -71.1198884278436, -72.1524909697626, -74.5971302972255, -73.4167407291277, -72.1524909697626, -73.1542895995679, -75.7644939496559, -74.5971302972255, -73.1542895995679, -74.1194913324076, -76.9154107034852, -75.7644939496559, -74.1194913324076, -75.0410474794284, -78.0451958128288, -76.9154107034852, -75.0410474794284, -75.9104272085477, -79.1473142339174, -78.0451958128288, -75.792627858387, -76.5925756532099, -80.1232918906786, -79.0665836601817, -76.5925756532099, -77.3179975781961, -81.1281361317432, -80.1232918906786, -77.3179975781961, -77.9554490442751, -82.0614591044496, -81.1281361317432, -77.9554490442751, -78.4903294675192, -82.8950768525509, -82.0614591044496, -78.4903294675192, -78.9078115927153, -83.5900222823136, -82.8950768525509, -78.9078115927153, -79.1942959245998, -84.0971548462644, -83.5900222823136, -79.1942959245998, -79.3392274059823, -84.3655610271964, -84.0971548462644, -79.3392274059823, -79.336838064244, -84.3610625749409, -84.3655610271964, -79.336838064244, -79.1872254729309, -84.0842817991583, -84.3610625749409, -79.1872254729309, -78.8963337574281, -83.5702728291737, -84.0842817991583, -78.8963337574281, -78.4748451819573, -82.8701360675063, -83.5702728291737, -78.4748451819573, -77.936426059479, -82.032759159793, -82.8701360675063, -77.936426059479, -77.2959163453854, -81.0967446544542, -82.032759159793, -77.2959163453854, -76.5678910154317, -80.0899610709817, -81.0967446544542, -76.5678910154317, -75.7657476695665, -79.031834396606, -80.0899610709817, -75.7657476695665, -74.9012681475161, -77.9358196063044, -79.031834396606, -74.9012681475161, -73.9845154196101, -76.8113103170169, -77.9358196063044, -73.9845154196101, -73.0239265851154, -75.6649606713393, -76.8113103170169</dd><dt><span>GRINGPOINTLONGITUDE.1 :</span></dt><dd>-35.4893069330821, -37.6944888662384, -21.6490229736039, -18.7700251042698, -37.6944888662384, -39.5809526701149, -24.2194784539233, -21.6490229736039, -39.5809526701149, -41.212121244232, -26.520921814387, -24.2194784539233, -41.729441231695, -43.1240200706338, -28.9787332909588, -26.923083557935, -43.1240200706338, -44.3519003200179, -30.8302894420263, -28.9787332909588, -44.3519003200179, -45.4418757968031, -32.5042917461408, -30.8302894420263, -45.8805314960724, -46.8332298065984, -34.3800627843727, -32.8730613117467, -46.8332298065984, -47.6908781567862, -35.7520325307507, -34.3800627843727, -47.6908781567862, -48.4677697477732, -37.0056373735686, -35.7520325307507, -48.8474025181466, -49.5385304045322, -38.4793552846216, -37.3408261962265, -49.5385304045322, -50.1714860234683, -39.5265075079382, -38.4793552846216, -50.5201514519663, -51.0886836777444, -40.7979238469793, -39.8416401254128, -51.0886836777444, -51.6143084713823, -41.6828493983829, -40.7979238469793, -51.9368468518275, -52.4130058066345, -42.7920250116439, -41.9796525697116, -52.4130058066345, -52.8568635933642, -43.5480038179481, -42.7920250116439, -53.1571891007077, -53.562339239073, -44.5256640017406, -43.828268147129, -53.8529842176662, -54.224039569379, -45.4434061619606, -44.7986598389934, -54.224039569379, -54.5736492800226, -46.0478897316347, -45.4434061619606, -54.8465987868886, -55.1688955782947, -46.8681014873315, -46.3068008051275, -55.1688955782947, -55.4744038459915, -47.3966847448634, -46.8681014873315, -55.7320515469159, -56.0153865962533, -48.1358366787396, -47.6430280287851, -56.2662556317908, -56.5297525291916, -48.8369174397276, -48.3766240146118, -56.5297525291916, -56.7815686279033, -49.2729496373908, -48.8369174397276, -57.0199827230266, -57.2554257096602, -49.9118474002509, -49.5031153197437, -57.4882809581365, -57.7089747212391, -50.5210721580681, -50.1372980420933, -57.9366113058625, -58.1439958809802, -51.1029693650784, -50.7420502466246, -58.1439958809802, -58.3440617491319, -51.4471837385836, -51.1029693650784, -58.5620862554887, -58.7509807120768, -51.9843890077178, -51.6596623649045, -58.9646829472176, -59.1434481941936, -52.4998691351359, -52.1930772605649, -59.3530829332901, -59.5226544432129, -52.9952277939481, -52.7049647032623, -59.7284601000028, -59.8896798701552, -53.4719286528662, -53.1969190082054, -59.8896798701552, -60.0467609285612, -53.7360535848405, -53.4719286528662, -60.2455078744353, -60.3954807184823, -54.1822203701257, -53.931310149125, -60.5910359727469, -60.7345367129979, -54.6132651591129, -54.3745985214147, -60.9270854869703, -61.0646928786494, -55.0302299217735, -54.8029193276856, -61.2544100041322, -61.3866519960064, -55.4340747634942, -55.2173076421738, -61.5737027868333, -61.7010622470534, -55.8256859772251, -55.6187170996521, -61.8856032840763, -62.0085230215238, -56.205883215413, -56.0080279322321, -62.1907028689218, -62.3095900499567, -56.5754258900301, -56.3860541245157, -62.4895499099245, -62.6047799549935, -56.9350188947637, -56.7535497961171, -62.7826542671271, -62.8945742988732, -57.2853177311695, -57.1112149061452, -63.0704912899061, -63.1794231937438, -57.6269331100307, -57.4597003618311, -63.3535053826943, -63.4597485318974, -57.9604350900564, -57.7996126028165, -63.6321131951595, -63.7359468850378, -58.2863568082112, -58.1315177234327, -63.9067064854766, -64.008392114947, -58.6051978491873, -58.4559451873887, -64.1776546986441, -64.277437732219, -58.9174272956851, -58.773391182471, -64.4453072961426, -64.5434190349057, -59.2234864961093, -59.0843216569664, -64.7099958684516, -64.8066550548267, -59.5237915819128, -59.3891750744448, -64.9720360578864, -65.0674503358151, -59.8187357630336, -59.6883649191396, -65.2317293157707, -65.3260965652167, -60.1086914265892, -59.9822819803666, -65.4893645122263, -65.5828740745673, -60.3940120611478, -60.2712964411313, -65.7452194338167, -65.8380532431227, -60.6750340264321, -60.5557597932248, -65.9995621444048, -66.0918957769802, -60.9520781861727, -60.8360065986411, -66.2526522780636, -66.34465593256, -61.2254514199785, -61.1123561150091, -66.504742237026, -66.59658165524, -61.4954480284889, -61.3851138008827, -66.7560783223801, -66.8479156602751, -61.7623510446877, -61.6545727151303, -67.0069018056366, -67.0988964632312, -62.0264334630715, -61.9210148232858, -67.4159921369831, -67.5079569973314, -62.4459282959695, -62.3430181875916, -67.6661421014273, -67.7586551084603, -62.7049188059659, -62.6039227725683, -67.916559034988, -68.0097752994172, -62.9619329356313, -62.8626764717346, -68.1674732313662, -68.2615483465119, -63.2172142868843, -63.119528053438, -68.4191149155699, -68.5142056883138, -63.471001843058, -63.3747208663189, -68.671715141539, -68.767980324705, -63.7235309036169, -63.6284938014006, -68.9255066886731, -69.0231077210068, -63.9750339982612, -63.8810822270496, -69.1807249642449, -69.279826724197, -64.2257417874963, -64.1327189040937, -69.437608918695, -69.5383804983308, -64.4758839566398, -64.3836348881947, -69.6964019809039, -69.7990174864663, -64.7256901102204, -64.6340604264697, -69.9573530207324, -70.0619924066764, -64.9753906737951, -64.8842258553459, -70.379414481279, -70.48675774473, -65.3847036296164, -65.2933455628136, -70.6459185763691, -70.7557455725197, -65.6354853349894, -65.5441994556795, -70.9154470159912, -71.0279619084254, -65.8869475713335, -65.7955730843281, -71.1882819614583, -71.3036987748167, -66.1393351397022, -66.0477078528896, -71.4647166932443, -71.5832604404521, -66.3928987569929, -66.3008502191768, -71.7450569187718, -71.866964815575, -66.6478961772854, -66.5552527674532, -72.0296221734462, -72.1551449522984, -66.9045933818776, -66.8111753405315, -72.3187473278147, -72.4481506645125, -67.1632658472487, -67.0688862393552, -72.6127842151153, -72.7463502831596, -67.4241999191927, -67.3286635177468, -72.9121033950814, -73.050132564567, -67.6876942691181, -67.5907963454526, -73.2170960717264, -73.3599087716771, -67.9540615008878, -67.8555865081929, -73.5281761849722, -73.6761149504867, -68.2236298870951, -68.1233500202348, -73.8457826984587, -73.9992144268674, -68.4967452716941, -68.3944188847187, -74.170382108729, -74.3297005522443, -68.7737731600912, -68.6691430200733, -74.5024712042773, -74.6680997304251, -69.055101023924, -68.9478923765926, -74.8425801067552, -75.0149747622943, -69.3411408517823, -69.2310592707033, -75.1912756310355, -75.3709285501971, -69.6323319818785, -69.5190609685114, -75.5491650059176, -75.7366082097682, -69.929144258288, -69.8123425550207, -75.9169000031607, -76.1127096438327, -70.2320815590353, -70.111380131073, -76.295181529356, -76.499982640992, -70.5416857521994, -70.4166843867749, -76.6847647430775, -76.8992365707816, -70.858541145615, -70.7288046081332, -77.0864647689472, -77.3113467580816, -71.1832795069713, -71.048333183094, -77.5011630909403, -77.7372616320207, -71.5165857445443, -71.3759106844825, -77.9298147196779, -78.1780107592422, -71.8592043549322, -71.7122316208588, -78.1780107592422, -78.4360460380108, -72.0096402607086, -71.8592043549322, -78.6347138884453, -78.9066816832335, -72.3697767898649, -72.2119467635937, -79.1085911529697, -79.3956423870225, -72.7416708528242, -72.575699707464, -79.6009746013104, -79.9043760666657, -73.1263749467579, -72.9514348373876, -80.113321252351, -80.4344699233221, -73.5250487885294, -73.3402197527321, -80.647227903345, -80.9876672856858, -73.9389738735538, -73.7432307228106, -80.9876672856858, -81.3445807576851, -74.1417459854655, -73.9389738735538, -81.5658867944407, -81.945435287478, -74.5853532453114, -74.3695703802607, -82.1712442878913, -82.5755198737899, -75.0486276328983, -74.8184168673563, -82.806077805867, -83.2374115389215, -75.5335106514079, -75.2872733086338, -83.2374115389215, -83.6927158026069, -75.7910313430229, -75.5335106514079, -83.9339708346793, -84.4215214159963, -76.3191316669273, -76.0421813622846, -84.6683796448422, -85.1914248272874, -76.8757743356719, -76.5770937821032, -85.1914248272874, -85.7468429797011, -77.1907272480777, -76.8757743356719, -86.0063763705349, -86.6046709999582, -77.8058016059756, -77.4640646142728, -86.6046709999582, -87.2428443999996, -78.1683608579909, -77.8058016059756, -87.5165999831292, -88.2070946716478, -78.8555079012479, -78.4594907347654, -88.4882050639895, -89.2369533434749, -79.5904133474065, -79.1563845505689, -89.2369533434749, -90.0416661330217, -80.0559056168261, -79.5904133474065, -90.3395186781273, -91.2164592386675, -80.8932608530592, -80.3791494528916, -91.2164592386675, -92.1643178500855, -81.4492446530484, -80.8932608530592, -92.4807669190463, -93.519213402066, -82.4182030053202, -81.7988304182094, -93.519213402066, -94.6486312779187, -83.0944606726373, -82.4182030053202, -94.6486312779187, -95.8812507920465, -83.8367510470401, -83.0944606726373, -96.229828593253, -97.5922566667315, -85.0759937104304, -84.2360799105467, -97.5922566667315, -99.0895492991254, -86.0091491313581, -85.0759937104304, -99.4607510167346, -101.125381810848, -87.5185300626744, -86.4497749857318, -101.125381810848, -102.967868822346, -88.7229918868693, -87.5185300626744, -102.967868822346, -105.015123492352, -90.0917227432438, -88.7229918868693, -105.420881830792, -107.715641487374, -92.215886252217, -90.6124505728492, -107.715641487374, -110.281426535823, -94.0720908324672, -92.215886252217, -110.281426535823, -113.158790070186, -96.2446558853954, -94.0720908324672, -113.158790070186, -116.392803943159, -98.8182906448718, -96.2446558853954, -116.392803943159, -120.031699855019, -101.906913871486, -98.8182906448718, -120.459353560472, -124.539873861413, -106.424178326186, -102.622192006437, -124.539873861413, -129.105835331411, -111.094772457915, -106.424178326186, -129.105835331411, -134.183743298477, -116.891651730705, -111.094772457915, -134.183743298477, -139.775024211613, -124.119124132911, -116.891651730705, -139.775024211613, -145.8435163835, -133.065501520459, -124.119124132911, -145.8435163835, -152.305502983167, -143.838656277729, -133.065501520459, -152.305502983167, -159.02800294064, -156.106042806666, -143.838656277729, -159.02800294064, -165.840072500305, -168.95363426404, -156.106042806666, -165.840072500305, -172.55669120688, 178.815781527437, -168.95363426404, -172.55669120688, -179.007821018644, 168.099370296435, 178.815781527437, -179.007821018644, 174.938031495356, 159.211668345881, 168.099370296435, 174.938031495356, 169.362963913584, 152.035178848872, 159.211668345881, 169.362963913584, 164.301743558856, 146.279173804943, 152.035178848872, 164.301743558856, 159.751940345155, 141.640278224316, 146.279173804943, 159.751940345155, 155.686440229267, 137.86265416978, 141.640278224316, 155.686440229267, 152.064538343628, 134.747541874635, 137.86265416978, 152.064538343628, 148.840104464069, 132.145317071316, 134.747541874635, 148.840104464069, 145.96682306568, 129.944287641486, 132.145317071316</dd><dt><span>GRINGPOINTSEQUENCENO.1 :</span></dt><dd>576, 575, 2, 1, 574, 573, 4, 3, 572, 571, 6, 5, 570, 569, 8, 7, 568, 567, 10, 9, 566, 565, 12, 11, 564, 563, 14, 13, 562, 561, 16, 15, 560, 559, 18, 17, 558, 557, 20, 19, 556, 555, 22, 21, 554, 553, 24, 23, 552, 551, 26, 25, 550, 549, 28, 27, 548, 547, 30, 29, 546, 545, 32, 31, 544, 543, 34, 33, 542, 541, 36, 35, 540, 539, 38, 37, 538, 537, 40, 39, 536, 535, 42, 41, 534, 533, 44, 43, 532, 531, 46, 45, 530, 529, 48, 47, 528, 527, 50, 49, 526, 525, 52, 51, 524, 523, 54, 53, 522, 521, 56, 55, 520, 519, 58, 57, 518, 517, 60, 59, 516, 515, 62, 61, 514, 513, 64, 63, 512, 511, 66, 65, 510, 509, 68, 67, 508, 507, 70, 69, 506, 505, 72, 71, 504, 503, 74, 73, 502, 501, 76, 75, 500, 499, 78, 77, 498, 497, 80, 79, 496, 495, 82, 81, 494, 493, 84, 83, 492, 491, 86, 85, 490, 489, 88, 87, 488, 487, 90, 89, 486, 485, 92, 91, 484, 483, 94, 93, 482, 481, 96, 95, 480, 479, 98, 97, 478, 477, 100, 99, 476, 475, 102, 101, 474, 473, 104, 103, 472, 471, 106, 105, 470, 469, 108, 107, 468, 467, 110, 109, 466, 465, 112, 111, 464, 463, 114, 113, 462, 461, 116, 115, 460, 459, 118, 117, 458, 457, 120, 119, 456, 455, 122, 121, 454, 453, 124, 123, 452, 451, 126, 125, 450, 449, 128, 127, 448, 447, 130, 129, 446, 445, 132, 131, 444, 443, 134, 133, 442, 441, 136, 135, 440, 439, 138, 137, 438, 437, 140, 139, 436, 435, 142, 141, 434, 433, 144, 143, 432, 431, 146, 145, 430, 429, 148, 147, 428, 427, 150, 149, 426, 425, 152, 151, 424, 423, 154, 153, 422, 421, 156, 155, 420, 419, 158, 157, 418, 417, 160, 159, 416, 415, 162, 161, 414, 413, 164, 163, 412, 411, 166, 165, 410, 409, 168, 167, 408, 407, 170, 169, 406, 405, 172, 171, 404, 403, 174, 173, 402, 401, 176, 175, 400, 399, 178, 177, 398, 397, 180, 179, 396, 395, 182, 181, 394, 393, 184, 183, 392, 391, 186, 185, 390, 389, 188, 187, 388, 387, 190, 189, 386, 385, 192, 191, 384, 383, 194, 193, 382, 381, 196, 195, 380, 379, 198, 197, 378, 377, 200, 199, 376, 375, 202, 201, 374, 373, 204, 203, 372, 371, 206, 205, 370, 369, 208, 207, 368, 367, 210, 209, 366, 365, 212, 211, 364, 363, 214, 213, 362, 361, 216, 215, 360, 359, 218, 217, 358, 357, 220, 219, 356, 355, 222, 221, 354, 353, 224, 223, 352, 351, 226, 225, 350, 349, 228, 227, 348, 347, 230, 229, 346, 345, 232, 231, 344, 343, 234, 233, 342, 341, 236, 235, 340, 339, 238, 237, 338, 337, 240, 239, 336, 335, 242, 241, 334, 333, 244, 243, 332, 331, 246, 245, 330, 329, 248, 247, 328, 327, 250, 249, 326, 325, 252, 251, 324, 323, 254, 253, 322, 321, 256, 255, 320, 319, 258, 257, 318, 317, 260, 259, 316, 315, 262, 261, 314, 313, 264, 263, 312, 311, 266, 265, 310, 309, 268, 267, 308, 307, 270, 269, 306, 305, 272, 271, 304, 303, 274, 273, 302, 301, 276, 275, 300, 299, 278, 277, 298, 297, 280, 279, 296, 295, 282, 281, 294, 293, 284, 283, 292, 291, 286, 285, 290, 289, 288, 287</dd><dt><span>HDFEOSVersion :</span></dt><dd>HDFEOS_V2.14</dd><dt><span>INPUTPOINTER :</span></dt><dd>LGID:MIB2GEOP:002:MISR_AM1_GP_GMP_P002_O112397_F03_0013.hdf, MISR_AM1_ARP_PRFLTCHAR_F02_0002.hdf, MISR_AM1_ARP_PRFLTCAL_F02_0005.hdf, MISR_AM1_ARP_INFLTCAL_T130_F02_0010.hdf, MISR_AM1_ARP_CONFIG_F03_0003.hdf, LGID:MI1B2EP:001:MISR_AM1_PGRP_ELLIPSOID_GM_P002_O112397_AA_F03_0024.hdf, LGID:MIB2TRPE.A2021034.1404.002.2021034234155.AA.24.hdf, MISR_AM1_PGE22_PCS_CONFIG_AA_F01_0001.ascii</dd><dt><span>LOCALGRANULEID :</span></dt><dd>MISR_AM1_GRP_ELLIPSOID_GM_P002_O112397_AA_F03_0024.hdf</dd><dt><span>LOCALVERSIONID :</span></dt><dd>MISR_EXEC_VERSION: V6.0.3 MISR_EXEC_NAME:GP_UPD_E_copy_main.c</dd><dt><span>Local_mode_site_name :</span></dt><dd></dd><dt><span>Number_blocks :</span></dt><dd>180</dd><dt><span>Num_local_modes :</span></dt><dd>0</dd><dt><span>Ocean_blocks.count :</span></dt><dd>46</dd><dt><span>Ocean_blocks.numbers :</span></dt><dd>43, 44, 45, 46, 47, 48, 54, 55, 56, 57, 58, 59, 60, 61, 62, 63, 64, 65, 66, 67, 68, 69, 70, 71, 72, 73, 74, 75, 131, 132, 133, 134, 135, 136, 137, 138, 139, 140, 141, 142, 143, 144, 145, 146, 147, 148, 0, 0, 0, 0, 0, 0, 0, 0, 0, 0, 0, 0, 0, 0, 0, 0, 0, 0, 0, 0, 0, 0, 0, 0, 0, 0, 0, 0, 0, 0, 0, 0, 0, 0, 0, 0, 0, 0, 0, 0, 0, 0, 0, 0, 0, 0, 0, 0, 0, 0, 0, 0, 0, 0, 0, 0, 0, 0, 0, 0, 0, 0, 0, 0, 0, 0, 0, 0, 0, 0, 0, 0, 0, 0, 0, 0, 0, 0, 0, 0, 0, 0, 0, 0, 0, 0, 0, 0, 0, 0, 0, 0, 0, 0, 0, 0, 0, 0, 0, 0, 0, 0, 0, 0, 0, 0, 0, 0, 0, 0, 0, 0, 0, 0, 0, 0, 0, 0, 0, 0, 0, 0, 0, 0, 0, 0, 0, 0, 0, 0, 0, 0, 0, 0</dd><dt><span>Ocean_blocks_size :</span></dt><dd>180</dd><dt><span>OPERATIONMODE.1 :</span></dt><dd>Normal</dd><dt><span>ORBITNUMBER.1 :</span></dt><dd>112397</dd><dt><span>Orbit_QA :</span></dt><dd>0</dd><dt><span>Origin_block.lrc.x :</span></dt><dd>7601550</dd><dt><span>Origin_block.lrc.y :</span></dt><dd>1090650</dd><dt><span>Origin_block.ulc.x :</span></dt><dd>7460750</dd><dt><span>Origin_block.ulc.y :</span></dt><dd>527450</dd><dt><span>PARAMETERNAME.1 :</span></dt><dd>Granule</dd><dt><span>Path_number :</span></dt><dd>2</dd><dt><span>PGEVERSION :</span></dt><dd>V6.0</dd><dt><span>PRODUCTIONDATETIME :</span></dt><dd>2021-02-03T23:44:26.000Z</dd><dt><span>QAPERCENTMISSINGDATA.1 :</span></dt><dd>0</dd><dt><span>RANGEBEGINNINGDATE :</span></dt><dd>2021-02-03</dd><dt><span>RANGEBEGINNINGTIME :</span></dt><dd>14:33:14.236920Z</dd><dt><span>RANGEENDINGDATE :</span></dt><dd>2021-02-03</dd><dt><span>RANGEENDINGTIME :</span></dt><dd>15:22:41.236920Z</dd><dt><span>SHORTNAME :</span></dt><dd>MI1B2E</dd><dt><span>SOM_parameters.som_ellipsoid.a :</span></dt><dd>6378137</dd><dt><span>SOM_parameters.som_ellipsoid.e2 :</span></dt><dd>0.006694348</dd><dt><span>SOM_parameters.som_orbit.aprime :</span></dt><dd>1</dd><dt><span>SOM_parameters.som_orbit.eprime :</span></dt><dd>1</dd><dt><span>SOM_parameters.som_orbit.gama :</span></dt><dd>1</dd><dt><span>SOM_parameters.som_orbit.i :</span></dt><dd>1.71572532628785</dd><dt><span>SOM_parameters.som_orbit.lambda0 :</span></dt><dd>2.20287554017511</dd><dt><span>SOM_parameters.som_orbit.nrev :</span></dt><dd>233</dd><dt><span>SOM_parameters.som_orbit.P2P1 :</span></dt><dd>0.0686666666666667</dd><dt><span>SOM_parameters.som_orbit.ro :</span></dt><dd>7078040.8</dd><dt><span>SP_AM_MISR_EndBlock :</span></dt><dd>172</dd><dt><span>SP_AM_MISR_ProductVersion :</span></dt><dd>24</dd><dt><span>SP_AM_MISR_StartBlock :</span></dt><dd>29</dd><dt><span>SP_AM_PATH_NO :</span></dt><dd>2</dd><dt><span>Start_block :</span></dt><dd>29</dd><dt><span>VERSIONID :</span></dt><dd>3</dd></dl></div></li></ul></div></div>"
      ],
      "text/plain": [
       "<xarray.Dataset>\n",
       "Dimensions:            (band: 180, x: 512, y: 2048)\n",
       "Coordinates:\n",
       "  * band               (band) int64 1 2 3 4 5 6 7 ... 175 176 177 178 179 180\n",
       "  * x                  (x) float64 7.461e+06 7.461e+06 ... 7.601e+06 7.601e+06\n",
       "  * y                  (y) float64 1.091e+06 1.09e+06 ... 5.279e+05 5.276e+05\n",
       "    spatial_ref        int64 0\n",
       "Data variables:\n",
       "    Red Radiance_RDQI  (band, y, x) uint16 ...\n",
       "Attributes: (12/60)\n",
       "    AGP_version_id:                     2\n",
       "    ASSOCIATEDINSTRUMENTSHORTNAME.1:    MISR\n",
       "    ASSOCIATEDPLATFORMSHORTNAME.1:      AM-1\n",
       "    ASSOCIATEDSENSORSHORTNAME.1:        AA\n",
       "    AUTOMATICQUALITYFLAG.1:             Not Investigated\n",
       "    AUTOMATICQUALITYFLAGEXPLANATION.1:  Automatic quality determination softw...\n",
       "    ...                                 ...\n",
       "    SP_AM_MISR_EndBlock:                172\n",
       "    SP_AM_MISR_ProductVersion:          24\n",
       "    SP_AM_MISR_StartBlock:              29\n",
       "    SP_AM_PATH_NO:                      2\n",
       "    Start_block:                        29\n",
       "    VERSIONID:                          3"
      ]
     },
     "execution_count": 591,
     "metadata": {},
     "output_type": "execute_result"
    }
   ],
   "source": [
    "misr = rxr.open_rasterio(misr_file)#,mask_and_scale=True)\n",
    "\n",
    "misr[2]"
   ]
  },
  {
   "cell_type": "code",
   "execution_count": null,
   "metadata": {},
   "outputs": [],
   "source": [
    "# how to read xarray data - attributes are with . ( misr[0].attrs ['name of ..']), Data variables are [''] or bt mise.variables['']\n",
    "red = misr[2]['Red Radiance_RDQI'].to_numpy()\n",
    "blue = misr[0]['Blue Radiance_RDQI']\n",
    "green =  misr[0]['Green Radiance_RDQI'].to_numpy()\n",
    "nir = misr[0]['NIR Radiance_RDQI'].to_numpy()\n",
    "solar_zenith = misr[1]['SolarZenith'].to_numpy()\n",
    "solar_azimuth = misr[1]['SolarAzimuth'].to_numpy()\n",
    "\n"
   ]
  },
  {
   "cell_type": "code",
   "execution_count": 532,
   "metadata": {},
   "outputs": [
    {
     "data": {
      "text/plain": [
       "<matplotlib.image.AxesImage at 0x2cf3aab30>"
      ]
     },
     "execution_count": 532,
     "metadata": {},
     "output_type": "execute_result"
    },
    {
     "data": {
      "image/png": "[encoded data removed]",
      "text/plain": [
       "<Figure size 432x288 with 1 Axes>"
      ]
     },
     "metadata": {
      "needs_background": "light"
     },
     "output_type": "display_data"
    }
   ],
   "source": [
    "blue_s = np.right_shift(blue[100,:,:],2).astype(np.double)\n",
    "plt.imshow(blue_s[0:10,0:10])"
   ]
  },
  {
   "cell_type": "code",
   "execution_count": 531,
   "metadata": {},
   "outputs": [
    {
     "data": {
      "text/plain": [
       "<matplotlib.image.AxesImage at 0x2cf57b940>"
      ]
     },
     "execution_count": 531,
     "metadata": {},
     "output_type": "execute_result"
    },
    {
     "data": {
      "image/png": "[encoded data removed]",
      "text/plain": [
       "<Figure size 432x288 with 1 Axes>"
      ]
     },
     "metadata": {
      "needs_background": "light"
     },
     "output_type": "display_data"
    }
   ],
   "source": [
    "\n",
    "plt.imshow(data,cmap='gray')"
   ]
  },
  {
   "cell_type": "code",
   "execution_count": null,
   "metadata": {},
   "outputs": [],
   "source": []
  },
  {
   "cell_type": "code",
   "execution_count": null,
   "metadata": {},
   "outputs": [],
   "source": []
  },
  {
   "cell_type": "code",
   "execution_count": null,
   "metadata": {},
   "outputs": [],
   "source": [
    "\n",
    "plt.imshow(misr1[0]['DNs'].data[0][0:3000,:],cmap='gray')\n",
    "misr1[0]['DNs']"
   ]
  },
  {
   "cell_type": "code",
   "execution_count": null,
   "metadata": {},
   "outputs": [],
   "source": []
  },
  {
   "cell_type": "code",
   "execution_count": null,
   "metadata": {},
   "outputs": [],
   "source": []
  },
  {
   "cell_type": "code",
   "execution_count": null,
   "metadata": {},
   "outputs": [],
   "source": []
  },
  {
   "cell_type": "code",
   "execution_count": null,
   "metadata": {},
   "outputs": [],
   "source": []
  },
  {
   "cell_type": "code",
   "execution_count": null,
   "metadata": {},
   "outputs": [],
   "source": []
  },
  {
   "cell_type": "code",
   "execution_count": null,
   "metadata": {},
   "outputs": [],
   "source": [
    "import earthpy as et\n",
    "et.data.get_data()"
   ]
  },
  {
   "cell_type": "code",
   "execution_count": null,
   "metadata": {},
   "outputs": [],
   "source": []
  },
  {
   "cell_type": "code",
   "execution_count": null,
   "metadata": {},
   "outputs": [],
   "source": []
  },
  {
   "cell_type": "code",
   "execution_count": 1,
   "metadata": {},
   "outputs": [],
   "source": [
    "\"\"\"\n",
    "\n",
    "This example code illustrates how to access and visualize an LaRC MISR SOM\n",
    "grid file in Python.\n",
    "\n",
    "If you have any questions, suggestions, or comments on this example, please use\n",
    "the HDF-EOS Forum (http://hdfeos.org/forums).  If you would like to see an\n",
    "example of any other NASA HDF/HDF-EOS data product that is not listed in the\n",
    "HDF-EOS Comprehensive Examples page (http://hdfeos.org/zoo), feel free to\n",
    "contact us at eoshelp@hdfgroup.org or post it at the HDF-EOS Forum\n",
    "(http://hdfeos.org/forums).\n",
    "\n",
    "Usage:  save this script and run\n",
    "\n",
    "    python MISR_AM1_GRP_ELLIPSOID_GM_P019_O067531_AN_F03_0024.hdf.py\n",
    "\n",
    " The file contains SOM projection. We need to use \"eos2dump\" to generate 1D \n",
    " lat and lon and then convert them to 2D lat and lon accordingly.\n",
    " For example, run command as follows to get SOM projectoin lat/lon in ASCII.\n",
    "\n",
    " $eos2dump -c1 MISR_AM1_GRP_ELLIPSOID_GM_P019_O067531_AN_F03_0024.hdf BlueBand 50 > lat_MISR_AM1_GRP_ELLIPSOID_GM_P019_O067531_AN_F03_0024.output\n",
    " $eos2dump -c2 MISR_AM1_GRP_ELLIPSOID_GM_P019_O067531_AN_F03_0024.hdf BlueBand 50 > lon_MISR_AM1_GRP_ELLIPSOID_GM_P019_O067531_AN_F03_0024.output\n",
    "\n",
    "The HDF file and HDF-EOS2 dumper output files for lat/lon must be in your \n",
    "current working directory.\n",
    "\n",
    "Tested under: Python 2.7.13 :: Anaconda 4.3.22 \n",
    "Last updated: 2017-12-13\n",
    "\"\"\"\n",
    "\n",
    "import os\n",
    "import re\n",
    "import matplotlib as mpl\n",
    "import matplotlib.pyplot as plt\n",
    "#import mpl_toolkits.basemap.pyproj as pyproj\n",
    "import numpy as np\n",
    "#from mpl_toolkits.basemap import Basemap\n",
    "from pyhdf.SD import *\n",
    "\n",
    "# Set file name to read.\n",
    "FILE_NAME = '/Users/adirazgoldfarb/Yoav Shechner/misr_data/levelb2/MISR_AM1_GRP_ELLIPSOID_GM_P002_O112397_AA_F03_0024.hdf'\n",
    "\n",
    "# Set dataset name to read.\n",
    "DATAFIELD_NAME = 'Blue Radiance/RDQI'\n",
    "\n",
    "# Open file.\n",
    "hdf = SD(FILE_NAME, SDC.READ)\n",
    "\n",
    "# Read dataset.\n",
    "data3D = hdf.select(DATAFIELD_NAME)\n",
    "\n",
    "# We pick the 50th SOM block.\n",
    "data = data3D[99,:,:]\n",
    "\n",
    "# Read attributes.\n",
    "attrs = data3D.attributes(full=1)\n",
    "fva=attrs[\"_FillValue\"]\n",
    "_FillValue = fva[0]\n",
    "\n",
    "# Read scale factor using HDFView.\n",
    "# It is under /BlueBand/Grid Attributes/Scale factor.\n",
    "scale_factor = 0.047203224152326584\n",
    "\n",
    "\n",
    "# We need to shift bits for \"RDQI\" to get \"Blue Band \"only. \n",
    "# See the page 84 of \"MISR Data Products Specifications (rev. S)\".\n",
    "# The document is available at [1].\n",
    "datas = np.right_shift(data, 2);\n",
    "dataf = datas.astype(np.double)\n",
    "\n",
    "# Apply the fill value.\n",
    "dataf[data == _FillValue] = np.nan\n",
    "\n",
    "# Filter out values (> 16376) used for \"Flag Data\".\n",
    "# See Table 1.2 in \"MISR Level 1 Radiance Scaling and Conditioning\n",
    "# Algorithm  Theoretical Basis\" document [2].\n",
    "dataf[datas > 16376] = np.nan\n",
    "datam = np.ma.masked_array(dataf, mask=np.isnan(dataf))\n",
    "\n",
    "# Apply scale facotr.\n",
    "#datam = scale_factor * datam;\n",
    "\n"
   ]
  },
  {
   "cell_type": "code",
   "execution_count": 3,
   "metadata": {},
   "outputs": [
    {
     "data": {
      "text/plain": [
       "<matplotlib.image.AxesImage at 0x10ea17910>"
      ]
     },
     "execution_count": 3,
     "metadata": {},
     "output_type": "execute_result"
    },
    {
     "data": {
      "image/png": "[encoded data removed]",
      "text/plain": [
       "<Figure size 432x288 with 1 Axes>"
      ]
     },
     "metadata": {
      "needs_background": "light"
     },
     "output_type": "display_data"
    }
   ],
   "source": [
    "plt.imshow(datam)\n",
    "#pandas.hdf"
   ]
  },
  {
   "cell_type": "code",
   "execution_count": 6,
   "metadata": {},
   "outputs": [
    {
     "ename": "HDF4Error",
     "evalue": "select: non-existent dataset",
     "output_type": "error",
     "traceback": [
      "\u001b[0;31m---------------------------------------------------------------------------\u001b[0m",
      "\u001b[0;31mHDF4Error\u001b[0m                                 Traceback (most recent call last)",
      "File \u001b[0;32m~/miniconda3/envs/pm/lib/python3.10/site-packages/pyhdf/SD.py:1621\u001b[0m, in \u001b[0;36mSD.select\u001b[0;34m(self, name_or_index)\u001b[0m\n\u001b[1;32m   1620\u001b[0m \u001b[38;5;28;01mtry\u001b[39;00m:\n\u001b[0;32m-> 1621\u001b[0m     idx \u001b[38;5;241m=\u001b[39m \u001b[38;5;28;43mself\u001b[39;49m\u001b[38;5;241;43m.\u001b[39;49m\u001b[43mnametoindex\u001b[49m\u001b[43m(\u001b[49m\u001b[43mname_or_index\u001b[49m\u001b[43m)\u001b[49m\n\u001b[1;32m   1622\u001b[0m \u001b[38;5;28;01mexcept\u001b[39;00m HDF4Error:\n",
      "File \u001b[0;32m~/miniconda3/envs/pm/lib/python3.10/site-packages/pyhdf/SD.py:1514\u001b[0m, in \u001b[0;36mSD.nametoindex\u001b[0;34m(self, sds_name)\u001b[0m\n\u001b[1;32m   1513\u001b[0m sds_idx \u001b[38;5;241m=\u001b[39m _C\u001b[38;5;241m.\u001b[39mSDnametoindex(\u001b[38;5;28mself\u001b[39m\u001b[38;5;241m.\u001b[39m_id, sds_name)\n\u001b[0;32m-> 1514\u001b[0m \u001b[43m_checkErr\u001b[49m\u001b[43m(\u001b[49m\u001b[38;5;124;43m'\u001b[39;49m\u001b[38;5;124;43mnametoindex\u001b[39;49m\u001b[38;5;124;43m'\u001b[39;49m\u001b[43m,\u001b[49m\u001b[43m \u001b[49m\u001b[43msds_idx\u001b[49m\u001b[43m,\u001b[49m\u001b[43m \u001b[49m\u001b[38;5;124;43m'\u001b[39;49m\u001b[38;5;124;43mnon existent SDS\u001b[39;49m\u001b[38;5;124;43m'\u001b[39;49m\u001b[43m)\u001b[49m\n\u001b[1;32m   1515\u001b[0m \u001b[38;5;28;01mreturn\u001b[39;00m sds_idx\n",
      "File \u001b[0;32m~/miniconda3/envs/pm/lib/python3.10/site-packages/pyhdf/error.py:23\u001b[0m, in \u001b[0;36m_checkErr\u001b[0;34m(procName, val, msg)\u001b[0m\n\u001b[1;32m     22\u001b[0m     err \u001b[38;5;241m=\u001b[39m \u001b[38;5;124m\"\u001b[39m\u001b[38;5;132;01m%s\u001b[39;00m\u001b[38;5;124m : \u001b[39m\u001b[38;5;132;01m%s\u001b[39;00m\u001b[38;5;124m\"\u001b[39m \u001b[38;5;241m%\u001b[39m (procName, msg)\n\u001b[0;32m---> 23\u001b[0m \u001b[38;5;28;01mraise\u001b[39;00m HDF4Error(err)\n",
      "\u001b[0;31mHDF4Error\u001b[0m: nametoindex : non existent SDS",
      "\nDuring handling of the above exception, another exception occurred:\n",
      "\u001b[0;31mHDF4Error\u001b[0m                                 Traceback (most recent call last)",
      "Input \u001b[0;32mIn [6]\u001b[0m, in \u001b[0;36m<cell line: 1>\u001b[0;34m()\u001b[0m\n\u001b[0;32m----> 1\u001b[0m \u001b[43mhdf\u001b[49m\u001b[38;5;241;43m.\u001b[39;49m\u001b[43mselect\u001b[49m\u001b[43m(\u001b[49m\u001b[38;5;124;43m'\u001b[39;49m\u001b[38;5;124;43m'\u001b[39;49m\u001b[43m)\u001b[49m\n",
      "File \u001b[0;32m~/miniconda3/envs/pm/lib/python3.10/site-packages/pyhdf/SD.py:1623\u001b[0m, in \u001b[0;36mSD.select\u001b[0;34m(self, name_or_index)\u001b[0m\n\u001b[1;32m   1621\u001b[0m         idx \u001b[38;5;241m=\u001b[39m \u001b[38;5;28mself\u001b[39m\u001b[38;5;241m.\u001b[39mnametoindex(name_or_index)\n\u001b[1;32m   1622\u001b[0m     \u001b[38;5;28;01mexcept\u001b[39;00m HDF4Error:\n\u001b[0;32m-> 1623\u001b[0m         \u001b[38;5;28;01mraise\u001b[39;00m HDF4Error(\u001b[38;5;124m\"\u001b[39m\u001b[38;5;124mselect: non-existent dataset\u001b[39m\u001b[38;5;124m\"\u001b[39m)\n\u001b[1;32m   1624\u001b[0m \u001b[38;5;28mid\u001b[39m \u001b[38;5;241m=\u001b[39m _C\u001b[38;5;241m.\u001b[39mSDselect(\u001b[38;5;28mself\u001b[39m\u001b[38;5;241m.\u001b[39m_id, idx)\n\u001b[1;32m   1625\u001b[0m _checkErr(\u001b[38;5;124m'\u001b[39m\u001b[38;5;124mselect\u001b[39m\u001b[38;5;124m'\u001b[39m, \u001b[38;5;28mid\u001b[39m, \u001b[38;5;124m\"\u001b[39m\u001b[38;5;124mcannot execute\u001b[39m\u001b[38;5;124m\"\u001b[39m)\n",
      "\u001b[0;31mHDF4Error\u001b[0m: select: non-existent dataset"
     ]
    }
   ],
   "source": [
    "hdf.select('')"
   ]
  },
  {
   "cell_type": "code",
   "execution_count": 604,
   "metadata": {},
   "outputs": [
    {
     "ename": "FileNotFoundError",
     "evalue": "lat_MISR_AM1_GRP_ELLIPSOID_GM_P019_O067531_AN_F03_0024.output not found.",
     "output_type": "error",
     "traceback": [
      "\u001b[0;31m---------------------------------------------------------------------------\u001b[0m",
      "\u001b[0;31mFileNotFoundError\u001b[0m                         Traceback (most recent call last)",
      "Input \u001b[0;32mIn [604]\u001b[0m, in \u001b[0;36m<cell line: 3>\u001b[0;34m()\u001b[0m\n\u001b[1;32m      1\u001b[0m \u001b[38;5;66;03m# Read geolocation dataset from HDF-EOS2 dumper output.\u001b[39;00m\n\u001b[1;32m      2\u001b[0m GEO_FILE_NAME \u001b[38;5;241m=\u001b[39m \u001b[38;5;124m'\u001b[39m\u001b[38;5;124mlat_MISR_AM1_GRP_ELLIPSOID_GM_P019_O067531_AN_F03_0024.output\u001b[39m\u001b[38;5;124m'\u001b[39m\n\u001b[0;32m----> 3\u001b[0m lat \u001b[38;5;241m=\u001b[39m \u001b[43mnp\u001b[49m\u001b[38;5;241;43m.\u001b[39;49m\u001b[43mgenfromtxt\u001b[49m\u001b[43m(\u001b[49m\u001b[43mGEO_FILE_NAME\u001b[49m\u001b[43m,\u001b[49m\u001b[43m \u001b[49m\u001b[43mdelimiter\u001b[49m\u001b[38;5;241;43m=\u001b[39;49m\u001b[38;5;124;43m'\u001b[39;49m\u001b[38;5;124;43m,\u001b[39;49m\u001b[38;5;124;43m'\u001b[39;49m\u001b[43m,\u001b[49m\u001b[43m \u001b[49m\u001b[43musecols\u001b[49m\u001b[38;5;241;43m=\u001b[39;49m\u001b[43m[\u001b[49m\u001b[38;5;241;43m0\u001b[39;49m\u001b[43m]\u001b[49m\u001b[43m)\u001b[49m\n\u001b[1;32m      4\u001b[0m lat \u001b[38;5;241m=\u001b[39m lat\u001b[38;5;241m.\u001b[39mreshape(data\u001b[38;5;241m.\u001b[39mshape)\n\u001b[1;32m      6\u001b[0m GEO_FILE_NAME \u001b[38;5;241m=\u001b[39m \u001b[38;5;124m'\u001b[39m\u001b[38;5;124mlon_MISR_AM1_GRP_ELLIPSOID_GM_P019_O067531_AN_F03_0024.output\u001b[39m\u001b[38;5;124m'\u001b[39m\n",
      "File \u001b[0;32m~/miniconda3/envs/pm/lib/python3.10/site-packages/numpy/lib/npyio.py:1929\u001b[0m, in \u001b[0;36mgenfromtxt\u001b[0;34m(fname, dtype, comments, delimiter, skip_header, skip_footer, converters, missing_values, filling_values, usecols, names, excludelist, deletechars, replace_space, autostrip, case_sensitive, defaultfmt, unpack, usemask, loose, invalid_raise, max_rows, encoding, ndmin, like)\u001b[0m\n\u001b[1;32m   1927\u001b[0m     fname \u001b[38;5;241m=\u001b[39m os_fspath(fname)\n\u001b[1;32m   1928\u001b[0m \u001b[38;5;28;01mif\u001b[39;00m \u001b[38;5;28misinstance\u001b[39m(fname, \u001b[38;5;28mstr\u001b[39m):\n\u001b[0;32m-> 1929\u001b[0m     fid \u001b[38;5;241m=\u001b[39m \u001b[43mnp\u001b[49m\u001b[38;5;241;43m.\u001b[39;49m\u001b[43mlib\u001b[49m\u001b[38;5;241;43m.\u001b[39;49m\u001b[43m_datasource\u001b[49m\u001b[38;5;241;43m.\u001b[39;49m\u001b[43mopen\u001b[49m\u001b[43m(\u001b[49m\u001b[43mfname\u001b[49m\u001b[43m,\u001b[49m\u001b[43m \u001b[49m\u001b[38;5;124;43m'\u001b[39;49m\u001b[38;5;124;43mrt\u001b[39;49m\u001b[38;5;124;43m'\u001b[39;49m\u001b[43m,\u001b[49m\u001b[43m \u001b[49m\u001b[43mencoding\u001b[49m\u001b[38;5;241;43m=\u001b[39;49m\u001b[43mencoding\u001b[49m\u001b[43m)\u001b[49m\n\u001b[1;32m   1930\u001b[0m     fid_ctx \u001b[38;5;241m=\u001b[39m contextlib\u001b[38;5;241m.\u001b[39mclosing(fid)\n\u001b[1;32m   1931\u001b[0m \u001b[38;5;28;01melse\u001b[39;00m:\n",
      "File \u001b[0;32m~/miniconda3/envs/pm/lib/python3.10/site-packages/numpy/lib/_datasource.py:193\u001b[0m, in \u001b[0;36mopen\u001b[0;34m(path, mode, destpath, encoding, newline)\u001b[0m\n\u001b[1;32m    156\u001b[0m \u001b[38;5;124;03m\"\"\"\u001b[39;00m\n\u001b[1;32m    157\u001b[0m \u001b[38;5;124;03mOpen `path` with `mode` and return the file object.\u001b[39;00m\n\u001b[1;32m    158\u001b[0m \n\u001b[0;32m   (...)\u001b[0m\n\u001b[1;32m    189\u001b[0m \n\u001b[1;32m    190\u001b[0m \u001b[38;5;124;03m\"\"\"\u001b[39;00m\n\u001b[1;32m    192\u001b[0m ds \u001b[38;5;241m=\u001b[39m DataSource(destpath)\n\u001b[0;32m--> 193\u001b[0m \u001b[38;5;28;01mreturn\u001b[39;00m \u001b[43mds\u001b[49m\u001b[38;5;241;43m.\u001b[39;49m\u001b[43mopen\u001b[49m\u001b[43m(\u001b[49m\u001b[43mpath\u001b[49m\u001b[43m,\u001b[49m\u001b[43m \u001b[49m\u001b[43mmode\u001b[49m\u001b[43m,\u001b[49m\u001b[43m \u001b[49m\u001b[43mencoding\u001b[49m\u001b[38;5;241;43m=\u001b[39;49m\u001b[43mencoding\u001b[49m\u001b[43m,\u001b[49m\u001b[43m \u001b[49m\u001b[43mnewline\u001b[49m\u001b[38;5;241;43m=\u001b[39;49m\u001b[43mnewline\u001b[49m\u001b[43m)\u001b[49m\n",
      "File \u001b[0;32m~/miniconda3/envs/pm/lib/python3.10/site-packages/numpy/lib/_datasource.py:533\u001b[0m, in \u001b[0;36mDataSource.open\u001b[0;34m(self, path, mode, encoding, newline)\u001b[0m\n\u001b[1;32m    530\u001b[0m     \u001b[38;5;28;01mreturn\u001b[39;00m _file_openers[ext](found, mode\u001b[38;5;241m=\u001b[39mmode,\n\u001b[1;32m    531\u001b[0m                               encoding\u001b[38;5;241m=\u001b[39mencoding, newline\u001b[38;5;241m=\u001b[39mnewline)\n\u001b[1;32m    532\u001b[0m \u001b[38;5;28;01melse\u001b[39;00m:\n\u001b[0;32m--> 533\u001b[0m     \u001b[38;5;28;01mraise\u001b[39;00m \u001b[38;5;167;01mFileNotFoundError\u001b[39;00m(\u001b[38;5;124mf\u001b[39m\u001b[38;5;124m\"\u001b[39m\u001b[38;5;132;01m{\u001b[39;00mpath\u001b[38;5;132;01m}\u001b[39;00m\u001b[38;5;124m not found.\u001b[39m\u001b[38;5;124m\"\u001b[39m)\n",
      "\u001b[0;31mFileNotFoundError\u001b[0m: lat_MISR_AM1_GRP_ELLIPSOID_GM_P019_O067531_AN_F03_0024.output not found."
     ]
    }
   ],
   "source": [
    "\n",
    "# Read geolocation dataset from HDF-EOS2 dumper output.\n",
    "GEO_FILE_NAME = 'lat_MISR_AM1_GRP_ELLIPSOID_GM_P019_O067531_AN_F03_0024.output'\n",
    "lat = np.genfromtxt(GEO_FILE_NAME, delimiter=',', usecols=[0])\n",
    "lat = lat.reshape(data.shape)\n",
    "    \n",
    "GEO_FILE_NAME = 'lon_MISR_AM1_GRP_ELLIPSOID_GM_P019_O067531_AN_F03_0024.output'\n",
    "lon = np.genfromtxt(GEO_FILE_NAME, delimiter=',', usecols=[0])\n",
    "lon = lon.reshape(data.shape)\n",
    "\n",
    "\n",
    "# Set the limit for the plot.\n",
    "m = Basemap(projection='cyl', resolution='h',\n",
    "            llcrnrlat=np.min(lat), urcrnrlat = np.max(lat),\n",
    "            llcrnrlon=np.min(lon), urcrnrlon = np.max(lon))\n",
    "m.drawcoastlines(linewidth=0.5)\n",
    "lat_sp = (np.max(lat)-np.min(lat)) / 4.0\n",
    "m.drawparallels(np.arange(np.min(lat), np.max(lat), lat_sp), \n",
    "                labels=[1, 0, 0, 0])\n",
    "lon_sp = (np.max(lon)-np.min(lon)) / 4.0\n",
    "m.drawmeridians(np.arange(np.min(lon), np.max(lon), lon_sp), \n",
    "                labels=[0, 0, 0, 1])\n",
    "m.pcolormesh(lon, lat, datam, latlon=True)\n",
    "cb = m.colorbar()\n",
    "pm = m.scatter(lon, lat, c=datam, s=1.0,  cmap=plt.cm.jet,\n",
    "               edgecolors=None, linewidth=0)        \n",
    "cb.set_label(r'$Wm^{-2}sr^{-1}{\\mu}m^{-1}$')\n",
    "\n",
    "basename = os.path.basename(FILE_NAME)\n",
    "plt.title('{0}\\n{1}'.format(basename, 'Blue Radiance'))\n",
    "fig = plt.gcf()\n",
    "a = fig.gca()\n",
    "pngfile = \"{0}.py.png\".format(basename)\n",
    "fig.savefig(pngfile)\n",
    "\n",
    "# References\n",
    "# \n",
    "# [1] https://asdc.larc.nasa.gov/documents/misr/DPS_v50_RevS.pdf\n",
    "# [2] https://eospso.gsfc.nasa.gov/sites/default/files/atbd/atbd-misr-01.pdf\n",
    "\n",
    "    \n"
   ]
  },
  {
   "cell_type": "code",
   "execution_count": null,
   "metadata": {},
   "outputs": [],
   "source": []
  }
 ],
 "metadata": {
  "kernelspec": {
   "display_name": "Python 3 (ipykernel)",
   "language": "python",
   "name": "python3"
  },
  "language_info": {
   "codemirror_mode": {
    "name": "ipython",
    "version": 3
   },
   "file_extension": ".py",
   "mimetype": "text/x-python",
   "name": "python",
   "nbconvert_exporter": "python",
   "pygments_lexer": "ipython3",
   "version": "3.10.5"
  }
 },
 "nbformat": 4,
 "nbformat_minor": 4
}
